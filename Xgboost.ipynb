{
 "cells": [
  {
   "cell_type": "code",
   "execution_count": null,
   "id": "9550c3da-b5c5-4e0e-bc4c-bd692982059e",
   "metadata": {},
   "outputs": [],
   "source": [
    "import sys\n",
    "!{sys.executable} -m pip install xgboost\n",
    "\n"
   ]
  },
  {
   "cell_type": "code",
   "execution_count": 5,
   "id": "d6812b01-ec18-4625-9972-343a37314c38",
   "metadata": {},
   "outputs": [],
   "source": [
    "import time\n",
    "import pandas as pd\n",
    "import numpy as np\n",
    "import xgboost as xgb\n",
    "from sklearn.preprocessing import LabelEncoder\n",
    "from sklearn.metrics import accuracy_score, classification_report\n",
    "\n",
    "\n",
    "file_path = \"df_rximages_final.csv\"    #loading the dataset\n",
    "df = pd.read_csv(file_path)\n",
    "\n",
    "df.dropna(inplace=True)    #drop missing values if theres any"
   ]
  },
  {
   "cell_type": "code",
   "execution_count": 6,
   "id": "91d128a1-2402-4b7e-846e-751959cb87bf",
   "metadata": {},
   "outputs": [],
   "source": [
    "#encode categorical vars to nums so its easier to work with\n",
    "label_encoders = {}\n",
    "for column in [\"shape\", \"color\", \"imprint\", \"name\"]:  #'size'not included b/c it's numerical\n",
    "    le = LabelEncoder()\n",
    "    df[column] = le.fit_transform(df[column])  #converst text to nums\n",
    "    label_encoders[column] = le  #stores encoders for decoding predictions\n"
   ]
  },
  {
   "cell_type": "code",
   "execution_count": 7,
   "id": "b8aaf023-afd2-4afb-b0b5-e563fdd5e282",
   "metadata": {},
   "outputs": [],
   "source": [
    "#defining features and target, X and y respectively\n",
    "X = df[[\"shape\", \"color\", \"size\", \"imprint\"]] #feature\n",
    "y = df[\"name\"] #target"
   ]
  },
  {
   "cell_type": "code",
   "execution_count": null,
   "id": "c6423e3d-a249-481c-a188-cd19df594190",
   "metadata": {},
   "outputs": [
    {
     "name": "stdout",
     "output_type": "stream",
     "text": [
      "Training time: 631.2486 seconds\n"
     ]
    }
   ],
   "source": [
    "#timing the time it takes to train the model\n",
    "start_time = time.time()\n",
    "\n",
    "#train XGBoost model on 100% of the data\n",
    "xgb_model = xgb.XGBClassifier(\n",
    "    objective=\"multi:softmax\",  #configures the model for multi-class classification, \n",
    "                                #meaning it assigns each input to one of multiple possible pill names. \n",
    "                                #The \"softmax\" function ensures that the output probabilities across all classes sum to 1, \n",
    "                                #allowing the model to make a single definitive prediction.\n",
    "    num_class=len(df[\"name\"].unique()), #sets the number of unique pill names as the number of classes\n",
    "    eval_metric=\"mlogloss\",\n",
    "    #n_estimators=500,  #increased number of trees for better learning\n",
    "    #max_depth=25,  #increased depth for capturing more patterns\n",
    "    n_estimators=750,\n",
    "    max_depth=30,  \n",
    "    learning_rate=0.03,  #lower learning rate = more refined training\n",
    "    subsample=1.0,  #using full dataset to learn from all patterns bc it cant be generalized\n",
    "    colsample_bytree=1.0,  #using all features in each tree\n",
    "    min_child_weight=1,  #allow smaller splits\n",
    "    reg_lambda=0,  #reducing regularization to allow more overfitting\n",
    "    reg_alpha=0,  #reducing L1 regularization\n",
    "    random_state=42\n",
    ")\n",
    "xgb_model.fit(X, y) #trains the XGBoost model on the entire dataset\n",
    "\n",
    "training_time = time.time() - start_time #time took to train the model\n",
    "print(f\"Training time: {training_time:.4f} seconds\")"
   ]
  },
  {
   "cell_type": "code",
   "execution_count": 9,
   "id": "19d10d46-86f2-44e8-8869-6713240fa81d",
   "metadata": {},
   "outputs": [],
   "source": [
    "#pill name predicting function\n",
    "def predict_pill(shape, color, size, imprint):\n",
    "    shape_encoded = label_encoders[\"shape\"].transform([shape])[0] #convert shape to num\n",
    "    color_encoded = label_encoders[\"color\"].transform([color])[0] #convert color to num\n",
    "    imprint_encoded = label_encoders[\"imprint\"].transform([imprint])[0] #convert imprint to num\n",
    "    #convert input to df with col names\n",
    "    input_data = pd.DataFrame([[shape_encoded, color_encoded, size, imprint_encoded]], columns=X.columns)\n",
    "    \n",
    "    prediction = xgb_model.predict(input_data) #make a prediction using the trained model\n",
    "    predicted_pill = label_encoders[\"name\"].inverse_transform(prediction) #convert prediction back to the original pill name\n",
    "    return predicted_pill[0] #return the predicted pill name"
   ]
  },
  {
   "cell_type": "code",
   "execution_count": 10,
   "id": "2a0a0640-d9f9-4fb0-a54c-42819be2fd54",
   "metadata": {},
   "outputs": [
    {
     "name": "stdout",
     "output_type": "stream",
     "text": [
      "Predicted Pill Name: Indomethacin 50 MG Oral Capsule\n",
      "Prediction time: 0.1501 seconds\n"
     ]
    }
   ],
   "source": [
    "#example prediction\n",
    "start_time = time.time()\n",
    "example_prediction = predict_pill(\"CAPSULE\", \"GREEN\", 20, \"MYLAN;147;MYLAN;147\")\n",
    "print(\"Predicted Pill Name:\", example_prediction)\n",
    "prediction_time = time.time() - start_time\n",
    "print(f\"Prediction time: {prediction_time:.4f} seconds\")"
   ]
  },
  {
   "cell_type": "code",
   "execution_count": 11,
   "id": "e78c3b13-fa76-4bd8-9fa3-d518d01258c6",
   "metadata": {},
   "outputs": [],
   "source": [
    "#evaluate model performance on the training set\n",
    "y_pred = xgb_model.predict(X)"
   ]
  },
  {
   "cell_type": "code",
   "execution_count": 12,
   "id": "96c8b9d0-2d86-4bd5-83af-049f4b7c9b42",
   "metadata": {},
   "outputs": [
    {
     "name": "stdout",
     "output_type": "stream",
     "text": [
      "Accuracy Score: 0.8849\n",
      "Precision Score: 0.9245\n",
      "Recall Score: 0.8849\n",
      "F1 Score: 0.8621\n"
     ]
    }
   ],
   "source": [
    "\n",
    "#calculate accuracy\n",
    "accuracy = accuracy_score(y, y_pred)\n",
    "print(f\"Accuracy Score: {accuracy:.4f}\")\n",
    "\n",
    "#calculate precision \n",
    "precision = precision_score(y, y_pred, average=\"weighted\", zero_division=1)\n",
    "print(f\"Precision Score: {precision:.4f}\")\n",
    "\n",
    "#calculate recall\n",
    "recall = recall_score(y, y_pred, average=\"weighted\", zero_division=1)\n",
    "print(f\"Recall Score: {recall:.4f}\")\n",
    "\n",
    "#calculate F1-score\n",
    "f1 = f1_score(y, y_pred, average=\"weighted\", zero_division=1)\n",
    "print(f\"F1 Score: {f1:.4f}\")\n",
    "\n",
    "\n"
   ]
  },
  {
   "cell_type": "code",
   "execution_count": 13,
   "id": "64138c30-00fd-485b-8af7-fcd7b409691c",
   "metadata": {},
   "outputs": [
    {
     "data": {
      "image/png": "[encoded data removed]",
      "text/plain": [
       "<Figure size 1000x600 with 1 Axes>"
      ]
     },
     "metadata": {},
     "output_type": "display_data"
    }
   ],
   "source": [
    "import matplotlib.pyplot as plt\n",
    "\n",
    "metrics = ['Accuracy', 'Precision', 'Recall', 'F1 Score']\n",
    "scores = [accuracy, precision, recall, f1]\n",
    "\n",
    "plt.figure(figsize=(10, 6))\n",
    "plt.bar(metrics, scores, color=['blue', 'orange', 'green', 'red'])\n",
    "plt.ylim(0, 1)\n",
    "plt.title(\"Model Performance Comparison\")\n",
    "plt.ylabel(\"Score\")\n",
    "plt.show()"
   ]
  },
  {
   "cell_type": "code",
   "execution_count": null,
   "id": "f81a727d-d8ec-4edb-8175-16aa74666242",
   "metadata": {},
   "outputs": [],
   "source": [
    "'''\n",
    "import time\n",
    "import pandas as pd\n",
    "import numpy as np\n",
    "import xgboost as xgb\n",
    "from sklearn.preprocessing import LabelEncoder\n",
    "from sklearn.metrics import accuracy_score, classification_report\n",
    "\n",
    "\n",
    "file_path = \"df_rximages_final.csv\"    # loading the dataset\n",
    "df = pd.read_csv(file_path)\n",
    "\n",
    "df.dropna(inplace=True)    # drop missing values if theres any\n",
    "\n",
    "# encode categorical variables to numbers so its easier to work with\n",
    "label_encoders = {}\n",
    "for column in [\"shape\", \"color\", \"imprint\", \"name\"]:  #'size'not included b/c it's numerical\n",
    "    le = LabelEncoder()\n",
    "    df[column] = le.fit_transform(df[column])  #converst text to numbers\n",
    "    label_encoders[column] = le  #stores encoders for decoding predictions\n",
    "\n",
    "#defining features and target, X and y respectively\n",
    "X = df[[\"shape\", \"color\", \"size\", \"imprint\"]] #feature\n",
    "y = df[\"name\"] #target\n",
    "\n",
    "#timing the time it takes to train the model\n",
    "start_time = time.time()\n",
    "\n",
    "#train XGBoost model on 100% of the data\n",
    "xgb_model = xgb.XGBClassifier(\n",
    "    objective=\"multi:softmax\",  #configures the model for multi-class classification, \n",
    "                                #meaning it assigns each input to one of multiple possible pill names. \n",
    "                                #The \"softmax\" function ensures that the output probabilities across all classes sum to 1, \n",
    "                                #allowing the model to make a single definitive prediction.\n",
    "    num_class=len(df[\"name\"].unique()), #sets the number of unique pill names as the number of classes\n",
    "    eval_metric=\"mlogloss\",\n",
    "    #n_estimators=500,  #increased number of trees for better learning\n",
    "    #max_depth=25,  #increased depth for capturing more patterns\n",
    "    n_estimators=750,\n",
    "    max_depth=30,  \n",
    "    learning_rate=0.03,  #lower learning rate = more refined training\n",
    "    subsample=1.0,  #using full dataset to learn from all patterns bc it cant be generalized\n",
    "    colsample_bytree=1.0,  #using all features in each tree\n",
    "    gamma=0,  # Allow more splits to improve learning\n",
    "    min_child_weight=1,  #allow smaller splits\n",
    "    reg_lambda=0,  #reducing regularization to allow more overfitting\n",
    "    reg_alpha=0,  #reducing L1 regularization\n",
    "    random_state=42\n",
    ")\n",
    "xgb_model.fit(X, y) #trains the XGBoost model on the entire dataset\n",
    "\n",
    "training_time = time.time() - start_time #time took to train the model\n",
    "print(f\"Training time: {training_time:.4f} seconds\")\n",
    "\n",
    "#pill name predicting function\n",
    "def predict_pill(shape, color, size, imprint):\n",
    "    shape_encoded = label_encoders[\"shape\"].transform([shape])[0] #convert shape to num\n",
    "    color_encoded = label_encoders[\"color\"].transform([color])[0] #convert color to num\n",
    "    imprint_encoded = label_encoders[\"imprint\"].transform([imprint])[0] #convert imprint to num\n",
    "    #convert input to df with col names\n",
    "    input_data = pd.DataFrame([[shape_encoded, color_encoded, size, imprint_encoded]], columns=X.columns)\n",
    "    \n",
    "    prediction = xgb_model.predict(input_data) #make a prediction using the trained model\n",
    "    predicted_pill = label_encoders[\"name\"].inverse_transform(prediction) #convert prediction back to the original pill name\n",
    "    return predicted_pill[0] #return the predicted pill name\n",
    "\n",
    "#example prediction\n",
    "start_time = time.time()\n",
    "example_prediction = predict_pill(\"CAPSULE\", \"GREEN\", 20, \"MYLAN;147;MYLAN;147\")\n",
    "print(\"Predicted Pill Name:\", example_prediction)\n",
    "prediction_time = time.time() - start_time\n",
    "print(f\"Prediction time: {prediction_time:.4f} seconds\")\n",
    "'''\n",
    "\n",
    "\n"
   ]
  }
 ],
 "metadata": {
  "kernelspec": {
   "display_name": "Python 3 (ipykernel)",
   "language": "python",
   "name": "python3"
  },
  "language_info": {
   "codemirror_mode": {
    "name": "ipython",
    "version": 3
   },
   "file_extension": ".py",
   "mimetype": "text/x-python",
   "name": "python",
   "nbconvert_exporter": "python",
   "pygments_lexer": "ipython3",
   "version": "3.11.5"
  }
 },
 "nbformat": 4,
 "nbformat_minor": 5
}
