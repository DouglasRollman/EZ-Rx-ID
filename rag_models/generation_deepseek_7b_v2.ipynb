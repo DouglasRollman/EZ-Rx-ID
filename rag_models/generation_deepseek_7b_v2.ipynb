{
 "cells": [
  {
   "cell_type": "code",
   "execution_count": 1,
   "id": "2cb3a3cf-20ca-4900-9686-87a00d752afa",
   "metadata": {},
   "outputs": [
    {
     "data": {
      "application/vnd.jupyter.widget-view+json": {
       "model_id": "3b9884e1a5334a349e61e8dff2a1f654",
       "version_major": 2,
       "version_minor": 0
      },
      "text/plain": [
       "Loading checkpoint shards:   0%|          | 0/2 [00:00<?, ?it/s]"
      ]
     },
     "metadata": {},
     "output_type": "display_data"
    }
   ],
   "source": [
    "import torch\n",
    "from transformers import AutoTokenizer, AutoModelForCausalLM, GenerationConfig, pipeline\n",
    "\n",
    "model_name = \"deepseek-ai/deepseek-llm-7b-chat\"\n",
    "tokenizer = AutoTokenizer.from_pretrained(model_name)\n",
    "model = AutoModelForCausalLM.from_pretrained(model_name, torch_dtype=torch.bfloat16, device_map=\"auto\")\n",
    "model.generation_config = GenerationConfig.from_pretrained(model_name)\n",
    "model.generation_config.pad_token_id = model.generation_config.eos_token_id"
   ]
  },
  {
   "cell_type": "code",
   "execution_count": 38,
   "id": "1848e51e-d1d6-46f1-a568-d6b8cc10e7fe",
   "metadata": {},
   "outputs": [],
   "source": [
    "from langchain.agents import AgentExecutor, create_tool_calling_agent, Tool\n",
    "from duckduckgo_search import DDGS\n",
    "from langchain_core.prompts import ChatPromptTemplate\n",
    "from langchain_core.messages import AIMessage\n",
    "from langchain_google_genai import ChatGoogleGenerativeAI\n",
    "import re\n",
    "import os\n",
    "from dotenv import load_dotenv"
   ]
  },
  {
   "cell_type": "code",
   "execution_count": 3,
   "id": "872e203d-4ef6-46f7-b83d-6e7d7fb94a72",
   "metadata": {},
   "outputs": [],
   "source": [
    "from langchain.vectorstores import FAISS\n",
    "from langchain.prompts import PromptTemplate\n",
    "from langchain.llms import HuggingFacePipeline\n",
    "from FlagEmbedding import FlagAutoModel\n",
    "\n",
    "embed_model = FlagAutoModel.from_finetuned('BAAI/bge-base-en-v1.5',\n",
    "                                      query_instruction_for_retrieval=\"Represent this sentence for searching relevant passages:\",\n",
    "                                      use_fp16=True)"
   ]
  },
  {
   "cell_type": "code",
   "execution_count": 4,
   "id": "68e42f57-793a-451a-8f71-65a5e823996c",
   "metadata": {},
   "outputs": [],
   "source": [
    "def initalize_agent():\n",
    "    load_dotenv(\"secrets.env\")\n",
    "    my_key = os.getenv(\"GEMINI_KEY\")\n",
    "    \n",
    "    os.environ[\"GOOGLE_API_KEY\"] = my_key\n",
    "    llm = ChatGoogleGenerativeAI(model=\"gemini-1.5-flash\", temperature=0.7)\n",
    "    TRUSTED_SITES = [\n",
    "        \"cdc.gov\", \n",
    "        \"nih.gov\",\n",
    "        \"drugs.com\",\n",
    "        \"medlineplus.gov\",\n",
    "        \"hopkinsmedicine.org\",\n",
    "        \"who.int\",\n",
    "        \"fda.gov\",\n",
    "        \"health.harvard.edu\"\n",
    "    ]\n",
    "    def medical_search(query: str, max_results: int = 5) -> str:\n",
    "        filter_domains = \" OR \".join([f\"site:{domain}\" for domain in TRUSTED_SITES])\n",
    "        full_query = f\"{query} {filter_domains}\"\n",
    "    \n",
    "        results_text = []\n",
    "        with DDGS() as ddgs:\n",
    "            for r in ddgs.text(full_query, max_results=max_results):\n",
    "                title = r.get(\"title\", \"\")\n",
    "                snippet = r.get(\"body\", \"\")\n",
    "                url = r.get(\"href\", \"\")\n",
    "                results_text.append(f\"Title: {title}\\nSnippet: {snippet}\\nSource: {url}\")\n",
    "    \n",
    "        return \"\\n\\n\".join(results_text) if results_text else \"No trusted medical sources found.\"\n",
    "        \n",
    "    tools = [\n",
    "        Tool(\n",
    "            name=\"TrustedMedicalSearch\",\n",
    "            func=medical_search,\n",
    "            description=\"Searches medical information from trusted sources like CDC, NIH, Mayo Clinic, and more.\"\n",
    "        )]\n",
    "    \n",
    "    prompt = ChatPromptTemplate.from_messages(\n",
    "        [(\"system\", (\n",
    "            \"You are a medical assistant. You have access to a specialized web search tool \"\n",
    "            \"that ONLY returns information from a predefined list of trustworthy sources, \"\n",
    "            \"including reputable general, academic, and medical websites. \"\n",
    "            \"Use this tool when you need to find current or specific information. \"\n",
    "            \"When you provide an answer based on information from the search tool, \"\n",
    "            \"If the tool returns 'No information found from trusted sources', state that clearly and do not invent information.\"\n",
    "            )),\n",
    "            (\"user\", \"{input}\"),\n",
    "            AIMessage(content=\"Okay, I will use the trusted search tool if necessary to find the answer from reliable sources.\"),\n",
    "            (\"placeholder\", \"{agent_scratchpad}\"),\n",
    "        ]\n",
    "    )\n",
    "    agent = create_tool_calling_agent(llm, tools, prompt)\n",
    "    agent_executor = AgentExecutor(agent=agent, tools=tools, verbose=True, handle_parsing_errors=True, return_intermediate_steps=True)\n",
    "    return agent, agent_executor"
   ]
  },
  {
   "cell_type": "code",
   "execution_count": 5,
   "id": "ab8c99fd-8b63-4455-9e42-ec1ec36d28b5",
   "metadata": {},
   "outputs": [],
   "source": [
    "def search_vectordb(user_query):\n",
    "    torch.cuda.empty_cache()\n",
    "    query = user_query\n",
    "    embed_query = embed_model.encode([query])\n",
    "    if \"pregnant\" in query.lower():\n",
    "        category = 'specific population usage'\n",
    "    elif \"uses\" in query.lower():\n",
    "        category = 'general'\n",
    "    elif \"clinical\" in query.lower():\n",
    "        category = 'clinical data'\n",
    "    elif \"dose\" in query.lower():\n",
    "        category = 'dosage and administration'\n",
    "    else:\n",
    "        category = 'general'\n",
    "    results = vector_store.similarity_search_by_vector(\n",
    "        embed_query[0], k=1, filter={\"category\": category})\n",
    "    cleaned_context = [doc.page_content for doc in results]\n",
    "    return query, cleaned_context"
   ]
  },
  {
   "cell_type": "code",
   "execution_count": 6,
   "id": "96a62f18-3d9d-4156-b1ba-11aa25bb3c1c",
   "metadata": {},
   "outputs": [],
   "source": [
    "def generate_deep_seek(query, cleaned_context):\n",
    "  torch.cuda.empty_cache()\n",
    "  prompt_template = \"\"\"\n",
    "  You are an expert medical assistant explaining medicine to someone without any prior knowledge.\n",
    "\n",
    "  Use ***ONLY*** the provided context to answer the user's question. Respond only with exact information found in the provided text.\n",
    "  If the context does not contain the answer, say \"The context does not provide enough information.\"\n",
    "\n",
    "  # Context: {context}\n",
    "\n",
    "  # Question: {question}\n",
    "\n",
    "  Answer:\n",
    "  \"\"\"\n",
    "  prompt = PromptTemplate(template=prompt_template, input_variables=['context', 'question'])\n",
    "  llm = HuggingFacePipeline(\n",
    "      pipeline=pipeline(\"text-generation\", model=model, tokenizer=tokenizer, max_new_tokens=300)\n",
    "  )\n",
    "  qa_chain = prompt | llm\n",
    "  response = qa_chain.invoke({'context' : cleaned_context, 'question' : query})\n",
    "\n",
    "  def extract_answer(text):\n",
    "      # Ensure \"Answer: \" exists in the string\n",
    "      if \"Answer:\" in text:\n",
    "          return text.split(\"Answer:\", 1)[1]\n",
    "\n",
    "  result = extract_answer(response)\n",
    "  return result, cleaned_context"
   ]
  },
  {
   "cell_type": "code",
   "execution_count": 17,
   "id": "98ac67ec-45aa-4409-bfd8-9c6003bd7307",
   "metadata": {},
   "outputs": [],
   "source": [
    "def self_eval(query, response):\n",
    "    torch.cuda.empty_cache()\n",
    "    gem_llm = ChatGoogleGenerativeAI(model=\"gemini-1.5-flash\", temperature=0.7)\n",
    "    prompt = PromptTemplate.from_template(\"\"\"\n",
    "    Given the following question and answer, determine if the answer is sufficient. An answer is sufficient if it provides ample information related to the question.\n",
    "    \n",
    "    An answer is insufficient if it doesn't contain relevant information. Additionally, phrases like \"the provided context does not contain\" or \"the context does not provide\" are common for insufficient answers\n",
    "    \n",
    "    Question: {question}\n",
    "    Answer: {answer}\n",
    "    \n",
    "    Respond only with \"Sufficient\" or \"Insufficient\".\n",
    "    \"\"\")\n",
    "    \n",
    "    question = query\n",
    "    answer = response\n",
    "    \n",
    "    sufficiency_chain = prompt | gem_llm\n",
    "    \n",
    "    sufficiency_result = sufficiency_chain.invoke({\n",
    "        \"question\": question,\n",
    "        \"answer\": answer\n",
    "    })\n",
    "    return sufficiency_result.content"
   ]
  },
  {
   "cell_type": "code",
   "execution_count": 26,
   "id": "3a4fee62-6f31-4b6b-a673-71a0a4e098d5",
   "metadata": {},
   "outputs": [],
   "source": [
    "def generate_with_agent(user_query, agent_executor):\n",
    "    query, cleaned_context = search_vectordb(user_query)\n",
    "    response, context = generate_deep_seek(query, cleaned_context)\n",
    "    sufficiency = self_eval(query, response)\n",
    "    if 'Insufficient' in sufficiency:\n",
    "        agent_response = agent_executor.invoke({\"input\": user_query})\n",
    "        summary = agent_response['output']\n",
    "        scraped_data = agent_response['intermediate_steps']\n",
    "        return summary, scraped_data\n",
    "    else:\n",
    "        return response, context\n",
    "\n",
    "def generate(user_query):\n",
    "    query, cleaned_context = search_vectordb(user_query)\n",
    "    response, context = generate_deep_seek(query, cleaned_context)\n",
    "    return response, context"
   ]
  },
  {
   "cell_type": "code",
   "execution_count": 9,
   "id": "1b328327-404d-4ae2-9034-cfa1ccc576bb",
   "metadata": {},
   "outputs": [
    {
     "name": "stderr",
     "output_type": "stream",
     "text": [
      "`embedding_function` is expected to be an Embeddings object, support for passing in a function will soon be removed.\n"
     ]
    }
   ],
   "source": [
    "vector_store = FAISS.load_local(\"my_vector_store\", embeddings=embed_model, allow_dangerous_deserialization=True)"
   ]
  },
  {
   "cell_type": "code",
   "execution_count": 10,
   "id": "cf772442-b975-4dd9-8b6c-9046d45ca320",
   "metadata": {},
   "outputs": [],
   "source": [
    "agent, agent_executor = initalize_agent()"
   ]
  },
  {
   "cell_type": "code",
   "execution_count": 39,
   "id": "60d5f15a-66e6-45d8-b5ca-99c9bf54c6dc",
   "metadata": {},
   "outputs": [
    {
     "name": "stderr",
     "output_type": "stream",
     "text": [
      "Device set to use cuda:0\n"
     ]
    },
    {
     "name": "stdout",
     "output_type": "stream",
     "text": [
      "\n",
      "\n",
      "\u001b[1m> Entering new AgentExecutor chain...\u001b[0m\n",
      "\u001b[32;1m\u001b[1;3m\n",
      "Invoking: `TrustedMedicalSearch` with `side effects of Ozempic`\n",
      "\n",
      "\n",
      "\u001b[0m"
     ]
    },
    {
     "ename": "DuckDuckGoSearchException",
     "evalue": "https://html.duckduckgo.com/html 202 Ratelimit",
     "output_type": "error",
     "traceback": [
      "\u001b[0;31m---------------------------------------------------------------------------\u001b[0m",
      "\u001b[0;31mDuckDuckGoSearchException\u001b[0m                 Traceback (most recent call last)",
      "Cell \u001b[0;32mIn[39], line 1\u001b[0m\n\u001b[0;32m----> 1\u001b[0m result, context \u001b[38;5;241m=\u001b[39m \u001b[43mgenerate_with_agent\u001b[49m\u001b[43m(\u001b[49m\u001b[38;5;124;43m\"\u001b[39;49m\u001b[38;5;124;43mWhat are the side effects of ozempic?\u001b[39;49m\u001b[38;5;124;43m\"\u001b[39;49m\u001b[43m,\u001b[49m\u001b[43m \u001b[49m\u001b[43magent_executor\u001b[49m\u001b[43m)\u001b[49m\n",
      "Cell \u001b[0;32mIn[26], line 6\u001b[0m, in \u001b[0;36mgenerate_with_agent\u001b[0;34m(user_query, agent_executor)\u001b[0m\n\u001b[1;32m      4\u001b[0m sufficiency \u001b[38;5;241m=\u001b[39m self_eval(query, response)\n\u001b[1;32m      5\u001b[0m \u001b[38;5;28;01mif\u001b[39;00m \u001b[38;5;124m'\u001b[39m\u001b[38;5;124mInsufficient\u001b[39m\u001b[38;5;124m'\u001b[39m \u001b[38;5;129;01min\u001b[39;00m sufficiency:\n\u001b[0;32m----> 6\u001b[0m     agent_response \u001b[38;5;241m=\u001b[39m \u001b[43magent_executor\u001b[49m\u001b[38;5;241;43m.\u001b[39;49m\u001b[43minvoke\u001b[49m\u001b[43m(\u001b[49m\u001b[43m{\u001b[49m\u001b[38;5;124;43m\"\u001b[39;49m\u001b[38;5;124;43minput\u001b[39;49m\u001b[38;5;124;43m\"\u001b[39;49m\u001b[43m:\u001b[49m\u001b[43m \u001b[49m\u001b[43mquery\u001b[49m\u001b[43m}\u001b[49m\u001b[43m)\u001b[49m\n\u001b[1;32m      7\u001b[0m     summary \u001b[38;5;241m=\u001b[39m agent_response[\u001b[38;5;124m'\u001b[39m\u001b[38;5;124moutput\u001b[39m\u001b[38;5;124m'\u001b[39m]\n\u001b[1;32m      8\u001b[0m     scraped_data \u001b[38;5;241m=\u001b[39m agent_response[\u001b[38;5;124m'\u001b[39m\u001b[38;5;124mintermediate_steps\u001b[39m\u001b[38;5;124m'\u001b[39m]\n",
      "File \u001b[0;32m/home/zeus/miniconda3/envs/cloudspace/lib/python3.10/site-packages/langchain/chains/base.py:167\u001b[0m, in \u001b[0;36mChain.invoke\u001b[0;34m(self, input, config, **kwargs)\u001b[0m\n\u001b[1;32m    165\u001b[0m \u001b[38;5;28;01mexcept\u001b[39;00m \u001b[38;5;167;01mBaseException\u001b[39;00m \u001b[38;5;28;01mas\u001b[39;00m e:\n\u001b[1;32m    166\u001b[0m     run_manager\u001b[38;5;241m.\u001b[39mon_chain_error(e)\n\u001b[0;32m--> 167\u001b[0m     \u001b[38;5;28;01mraise\u001b[39;00m e\n\u001b[1;32m    168\u001b[0m run_manager\u001b[38;5;241m.\u001b[39mon_chain_end(outputs)\n\u001b[1;32m    170\u001b[0m \u001b[38;5;28;01mif\u001b[39;00m include_run_info:\n",
      "File \u001b[0;32m/home/zeus/miniconda3/envs/cloudspace/lib/python3.10/site-packages/langchain/chains/base.py:157\u001b[0m, in \u001b[0;36mChain.invoke\u001b[0;34m(self, input, config, **kwargs)\u001b[0m\n\u001b[1;32m    154\u001b[0m \u001b[38;5;28;01mtry\u001b[39;00m:\n\u001b[1;32m    155\u001b[0m     \u001b[38;5;28mself\u001b[39m\u001b[38;5;241m.\u001b[39m_validate_inputs(inputs)\n\u001b[1;32m    156\u001b[0m     outputs \u001b[38;5;241m=\u001b[39m (\n\u001b[0;32m--> 157\u001b[0m         \u001b[38;5;28;43mself\u001b[39;49m\u001b[38;5;241;43m.\u001b[39;49m\u001b[43m_call\u001b[49m\u001b[43m(\u001b[49m\u001b[43minputs\u001b[49m\u001b[43m,\u001b[49m\u001b[43m \u001b[49m\u001b[43mrun_manager\u001b[49m\u001b[38;5;241;43m=\u001b[39;49m\u001b[43mrun_manager\u001b[49m\u001b[43m)\u001b[49m\n\u001b[1;32m    158\u001b[0m         \u001b[38;5;28;01mif\u001b[39;00m new_arg_supported\n\u001b[1;32m    159\u001b[0m         \u001b[38;5;28;01melse\u001b[39;00m \u001b[38;5;28mself\u001b[39m\u001b[38;5;241m.\u001b[39m_call(inputs)\n\u001b[1;32m    160\u001b[0m     )\n\u001b[1;32m    162\u001b[0m     final_outputs: \u001b[38;5;28mdict\u001b[39m[\u001b[38;5;28mstr\u001b[39m, Any] \u001b[38;5;241m=\u001b[39m \u001b[38;5;28mself\u001b[39m\u001b[38;5;241m.\u001b[39mprep_outputs(\n\u001b[1;32m    163\u001b[0m         inputs, outputs, return_only_outputs\n\u001b[1;32m    164\u001b[0m     )\n\u001b[1;32m    165\u001b[0m \u001b[38;5;28;01mexcept\u001b[39;00m \u001b[38;5;167;01mBaseException\u001b[39;00m \u001b[38;5;28;01mas\u001b[39;00m e:\n",
      "File \u001b[0;32m/home/zeus/miniconda3/envs/cloudspace/lib/python3.10/site-packages/langchain/agents/agent.py:1620\u001b[0m, in \u001b[0;36mAgentExecutor._call\u001b[0;34m(self, inputs, run_manager)\u001b[0m\n\u001b[1;32m   1618\u001b[0m \u001b[38;5;66;03m# We now enter the agent loop (until it returns something).\u001b[39;00m\n\u001b[1;32m   1619\u001b[0m \u001b[38;5;28;01mwhile\u001b[39;00m \u001b[38;5;28mself\u001b[39m\u001b[38;5;241m.\u001b[39m_should_continue(iterations, time_elapsed):\n\u001b[0;32m-> 1620\u001b[0m     next_step_output \u001b[38;5;241m=\u001b[39m \u001b[38;5;28;43mself\u001b[39;49m\u001b[38;5;241;43m.\u001b[39;49m\u001b[43m_take_next_step\u001b[49m\u001b[43m(\u001b[49m\n\u001b[1;32m   1621\u001b[0m \u001b[43m        \u001b[49m\u001b[43mname_to_tool_map\u001b[49m\u001b[43m,\u001b[49m\n\u001b[1;32m   1622\u001b[0m \u001b[43m        \u001b[49m\u001b[43mcolor_mapping\u001b[49m\u001b[43m,\u001b[49m\n\u001b[1;32m   1623\u001b[0m \u001b[43m        \u001b[49m\u001b[43minputs\u001b[49m\u001b[43m,\u001b[49m\n\u001b[1;32m   1624\u001b[0m \u001b[43m        \u001b[49m\u001b[43mintermediate_steps\u001b[49m\u001b[43m,\u001b[49m\n\u001b[1;32m   1625\u001b[0m \u001b[43m        \u001b[49m\u001b[43mrun_manager\u001b[49m\u001b[38;5;241;43m=\u001b[39;49m\u001b[43mrun_manager\u001b[49m\u001b[43m,\u001b[49m\n\u001b[1;32m   1626\u001b[0m \u001b[43m    \u001b[49m\u001b[43m)\u001b[49m\n\u001b[1;32m   1627\u001b[0m     \u001b[38;5;28;01mif\u001b[39;00m \u001b[38;5;28misinstance\u001b[39m(next_step_output, AgentFinish):\n\u001b[1;32m   1628\u001b[0m         \u001b[38;5;28;01mreturn\u001b[39;00m \u001b[38;5;28mself\u001b[39m\u001b[38;5;241m.\u001b[39m_return(\n\u001b[1;32m   1629\u001b[0m             next_step_output, intermediate_steps, run_manager\u001b[38;5;241m=\u001b[39mrun_manager\n\u001b[1;32m   1630\u001b[0m         )\n",
      "File \u001b[0;32m/home/zeus/miniconda3/envs/cloudspace/lib/python3.10/site-packages/langchain/agents/agent.py:1326\u001b[0m, in \u001b[0;36mAgentExecutor._take_next_step\u001b[0;34m(self, name_to_tool_map, color_mapping, inputs, intermediate_steps, run_manager)\u001b[0m\n\u001b[1;32m   1317\u001b[0m \u001b[38;5;28;01mdef\u001b[39;00m\u001b[38;5;250m \u001b[39m\u001b[38;5;21m_take_next_step\u001b[39m(\n\u001b[1;32m   1318\u001b[0m     \u001b[38;5;28mself\u001b[39m,\n\u001b[1;32m   1319\u001b[0m     name_to_tool_map: \u001b[38;5;28mdict\u001b[39m[\u001b[38;5;28mstr\u001b[39m, BaseTool],\n\u001b[0;32m   (...)\u001b[0m\n\u001b[1;32m   1323\u001b[0m     run_manager: Optional[CallbackManagerForChainRun] \u001b[38;5;241m=\u001b[39m \u001b[38;5;28;01mNone\u001b[39;00m,\n\u001b[1;32m   1324\u001b[0m ) \u001b[38;5;241m-\u001b[39m\u001b[38;5;241m>\u001b[39m Union[AgentFinish, \u001b[38;5;28mlist\u001b[39m[\u001b[38;5;28mtuple\u001b[39m[AgentAction, \u001b[38;5;28mstr\u001b[39m]]]:\n\u001b[1;32m   1325\u001b[0m     \u001b[38;5;28;01mreturn\u001b[39;00m \u001b[38;5;28mself\u001b[39m\u001b[38;5;241m.\u001b[39m_consume_next_step(\n\u001b[0;32m-> 1326\u001b[0m         [\n\u001b[1;32m   1327\u001b[0m             a\n\u001b[1;32m   1328\u001b[0m             \u001b[38;5;28;01mfor\u001b[39;00m a \u001b[38;5;129;01min\u001b[39;00m \u001b[38;5;28mself\u001b[39m\u001b[38;5;241m.\u001b[39m_iter_next_step(\n\u001b[1;32m   1329\u001b[0m                 name_to_tool_map,\n\u001b[1;32m   1330\u001b[0m                 color_mapping,\n\u001b[1;32m   1331\u001b[0m                 inputs,\n\u001b[1;32m   1332\u001b[0m                 intermediate_steps,\n\u001b[1;32m   1333\u001b[0m                 run_manager,\n\u001b[1;32m   1334\u001b[0m             )\n\u001b[1;32m   1335\u001b[0m         ]\n\u001b[1;32m   1336\u001b[0m     )\n",
      "File \u001b[0;32m/home/zeus/miniconda3/envs/cloudspace/lib/python3.10/site-packages/langchain/agents/agent.py:1326\u001b[0m, in \u001b[0;36m<listcomp>\u001b[0;34m(.0)\u001b[0m\n\u001b[1;32m   1317\u001b[0m \u001b[38;5;28;01mdef\u001b[39;00m\u001b[38;5;250m \u001b[39m\u001b[38;5;21m_take_next_step\u001b[39m(\n\u001b[1;32m   1318\u001b[0m     \u001b[38;5;28mself\u001b[39m,\n\u001b[1;32m   1319\u001b[0m     name_to_tool_map: \u001b[38;5;28mdict\u001b[39m[\u001b[38;5;28mstr\u001b[39m, BaseTool],\n\u001b[0;32m   (...)\u001b[0m\n\u001b[1;32m   1323\u001b[0m     run_manager: Optional[CallbackManagerForChainRun] \u001b[38;5;241m=\u001b[39m \u001b[38;5;28;01mNone\u001b[39;00m,\n\u001b[1;32m   1324\u001b[0m ) \u001b[38;5;241m-\u001b[39m\u001b[38;5;241m>\u001b[39m Union[AgentFinish, \u001b[38;5;28mlist\u001b[39m[\u001b[38;5;28mtuple\u001b[39m[AgentAction, \u001b[38;5;28mstr\u001b[39m]]]:\n\u001b[1;32m   1325\u001b[0m     \u001b[38;5;28;01mreturn\u001b[39;00m \u001b[38;5;28mself\u001b[39m\u001b[38;5;241m.\u001b[39m_consume_next_step(\n\u001b[0;32m-> 1326\u001b[0m         [\n\u001b[1;32m   1327\u001b[0m             a\n\u001b[1;32m   1328\u001b[0m             \u001b[38;5;28;01mfor\u001b[39;00m a \u001b[38;5;129;01min\u001b[39;00m \u001b[38;5;28mself\u001b[39m\u001b[38;5;241m.\u001b[39m_iter_next_step(\n\u001b[1;32m   1329\u001b[0m                 name_to_tool_map,\n\u001b[1;32m   1330\u001b[0m                 color_mapping,\n\u001b[1;32m   1331\u001b[0m                 inputs,\n\u001b[1;32m   1332\u001b[0m                 intermediate_steps,\n\u001b[1;32m   1333\u001b[0m                 run_manager,\n\u001b[1;32m   1334\u001b[0m             )\n\u001b[1;32m   1335\u001b[0m         ]\n\u001b[1;32m   1336\u001b[0m     )\n",
      "File \u001b[0;32m/home/zeus/miniconda3/envs/cloudspace/lib/python3.10/site-packages/langchain/agents/agent.py:1411\u001b[0m, in \u001b[0;36mAgentExecutor._iter_next_step\u001b[0;34m(self, name_to_tool_map, color_mapping, inputs, intermediate_steps, run_manager)\u001b[0m\n\u001b[1;32m   1409\u001b[0m     \u001b[38;5;28;01myield\u001b[39;00m agent_action\n\u001b[1;32m   1410\u001b[0m \u001b[38;5;28;01mfor\u001b[39;00m agent_action \u001b[38;5;129;01min\u001b[39;00m actions:\n\u001b[0;32m-> 1411\u001b[0m     \u001b[38;5;28;01myield\u001b[39;00m \u001b[38;5;28;43mself\u001b[39;49m\u001b[38;5;241;43m.\u001b[39;49m\u001b[43m_perform_agent_action\u001b[49m\u001b[43m(\u001b[49m\n\u001b[1;32m   1412\u001b[0m \u001b[43m        \u001b[49m\u001b[43mname_to_tool_map\u001b[49m\u001b[43m,\u001b[49m\u001b[43m \u001b[49m\u001b[43mcolor_mapping\u001b[49m\u001b[43m,\u001b[49m\u001b[43m \u001b[49m\u001b[43magent_action\u001b[49m\u001b[43m,\u001b[49m\u001b[43m \u001b[49m\u001b[43mrun_manager\u001b[49m\n\u001b[1;32m   1413\u001b[0m \u001b[43m    \u001b[49m\u001b[43m)\u001b[49m\n",
      "File \u001b[0;32m/home/zeus/miniconda3/envs/cloudspace/lib/python3.10/site-packages/langchain/agents/agent.py:1433\u001b[0m, in \u001b[0;36mAgentExecutor._perform_agent_action\u001b[0;34m(self, name_to_tool_map, color_mapping, agent_action, run_manager)\u001b[0m\n\u001b[1;32m   1431\u001b[0m         tool_run_kwargs[\u001b[38;5;124m\"\u001b[39m\u001b[38;5;124mllm_prefix\u001b[39m\u001b[38;5;124m\"\u001b[39m] \u001b[38;5;241m=\u001b[39m \u001b[38;5;124m\"\u001b[39m\u001b[38;5;124m\"\u001b[39m\n\u001b[1;32m   1432\u001b[0m     \u001b[38;5;66;03m# We then call the tool on the tool input to get an observation\u001b[39;00m\n\u001b[0;32m-> 1433\u001b[0m     observation \u001b[38;5;241m=\u001b[39m \u001b[43mtool\u001b[49m\u001b[38;5;241;43m.\u001b[39;49m\u001b[43mrun\u001b[49m\u001b[43m(\u001b[49m\n\u001b[1;32m   1434\u001b[0m \u001b[43m        \u001b[49m\u001b[43magent_action\u001b[49m\u001b[38;5;241;43m.\u001b[39;49m\u001b[43mtool_input\u001b[49m\u001b[43m,\u001b[49m\n\u001b[1;32m   1435\u001b[0m \u001b[43m        \u001b[49m\u001b[43mverbose\u001b[49m\u001b[38;5;241;43m=\u001b[39;49m\u001b[38;5;28;43mself\u001b[39;49m\u001b[38;5;241;43m.\u001b[39;49m\u001b[43mverbose\u001b[49m\u001b[43m,\u001b[49m\n\u001b[1;32m   1436\u001b[0m \u001b[43m        \u001b[49m\u001b[43mcolor\u001b[49m\u001b[38;5;241;43m=\u001b[39;49m\u001b[43mcolor\u001b[49m\u001b[43m,\u001b[49m\n\u001b[1;32m   1437\u001b[0m \u001b[43m        \u001b[49m\u001b[43mcallbacks\u001b[49m\u001b[38;5;241;43m=\u001b[39;49m\u001b[43mrun_manager\u001b[49m\u001b[38;5;241;43m.\u001b[39;49m\u001b[43mget_child\u001b[49m\u001b[43m(\u001b[49m\u001b[43m)\u001b[49m\u001b[43m \u001b[49m\u001b[38;5;28;43;01mif\u001b[39;49;00m\u001b[43m \u001b[49m\u001b[43mrun_manager\u001b[49m\u001b[43m \u001b[49m\u001b[38;5;28;43;01melse\u001b[39;49;00m\u001b[43m \u001b[49m\u001b[38;5;28;43;01mNone\u001b[39;49;00m\u001b[43m,\u001b[49m\n\u001b[1;32m   1438\u001b[0m \u001b[43m        \u001b[49m\u001b[38;5;241;43m*\u001b[39;49m\u001b[38;5;241;43m*\u001b[39;49m\u001b[43mtool_run_kwargs\u001b[49m\u001b[43m,\u001b[49m\n\u001b[1;32m   1439\u001b[0m \u001b[43m    \u001b[49m\u001b[43m)\u001b[49m\n\u001b[1;32m   1440\u001b[0m \u001b[38;5;28;01melse\u001b[39;00m:\n\u001b[1;32m   1441\u001b[0m     tool_run_kwargs \u001b[38;5;241m=\u001b[39m \u001b[38;5;28mself\u001b[39m\u001b[38;5;241m.\u001b[39m_action_agent\u001b[38;5;241m.\u001b[39mtool_run_logging_kwargs()\n",
      "File \u001b[0;32m/home/zeus/miniconda3/envs/cloudspace/lib/python3.10/site-packages/langchain_core/tools/base.py:774\u001b[0m, in \u001b[0;36mBaseTool.run\u001b[0;34m(self, tool_input, verbose, start_color, color, callbacks, tags, metadata, run_name, run_id, config, tool_call_id, **kwargs)\u001b[0m\n\u001b[1;32m    772\u001b[0m \u001b[38;5;28;01mif\u001b[39;00m error_to_raise:\n\u001b[1;32m    773\u001b[0m     run_manager\u001b[38;5;241m.\u001b[39mon_tool_error(error_to_raise)\n\u001b[0;32m--> 774\u001b[0m     \u001b[38;5;28;01mraise\u001b[39;00m error_to_raise\n\u001b[1;32m    775\u001b[0m output \u001b[38;5;241m=\u001b[39m _format_output(content, artifact, tool_call_id, \u001b[38;5;28mself\u001b[39m\u001b[38;5;241m.\u001b[39mname, status)\n\u001b[1;32m    776\u001b[0m run_manager\u001b[38;5;241m.\u001b[39mon_tool_end(output, color\u001b[38;5;241m=\u001b[39mcolor, name\u001b[38;5;241m=\u001b[39m\u001b[38;5;28mself\u001b[39m\u001b[38;5;241m.\u001b[39mname, \u001b[38;5;241m*\u001b[39m\u001b[38;5;241m*\u001b[39mkwargs)\n",
      "File \u001b[0;32m/home/zeus/miniconda3/envs/cloudspace/lib/python3.10/site-packages/langchain_core/tools/base.py:743\u001b[0m, in \u001b[0;36mBaseTool.run\u001b[0;34m(self, tool_input, verbose, start_color, color, callbacks, tags, metadata, run_name, run_id, config, tool_call_id, **kwargs)\u001b[0m\n\u001b[1;32m    741\u001b[0m     \u001b[38;5;28;01mif\u001b[39;00m config_param \u001b[38;5;241m:=\u001b[39m _get_runnable_config_param(\u001b[38;5;28mself\u001b[39m\u001b[38;5;241m.\u001b[39m_run):\n\u001b[1;32m    742\u001b[0m         tool_kwargs \u001b[38;5;241m=\u001b[39m tool_kwargs \u001b[38;5;241m|\u001b[39m {config_param: config}\n\u001b[0;32m--> 743\u001b[0m     response \u001b[38;5;241m=\u001b[39m \u001b[43mcontext\u001b[49m\u001b[38;5;241;43m.\u001b[39;49m\u001b[43mrun\u001b[49m\u001b[43m(\u001b[49m\u001b[38;5;28;43mself\u001b[39;49m\u001b[38;5;241;43m.\u001b[39;49m\u001b[43m_run\u001b[49m\u001b[43m,\u001b[49m\u001b[43m \u001b[49m\u001b[38;5;241;43m*\u001b[39;49m\u001b[43mtool_args\u001b[49m\u001b[43m,\u001b[49m\u001b[43m \u001b[49m\u001b[38;5;241;43m*\u001b[39;49m\u001b[38;5;241;43m*\u001b[39;49m\u001b[43mtool_kwargs\u001b[49m\u001b[43m)\u001b[49m\n\u001b[1;32m    744\u001b[0m \u001b[38;5;28;01mif\u001b[39;00m \u001b[38;5;28mself\u001b[39m\u001b[38;5;241m.\u001b[39mresponse_format \u001b[38;5;241m==\u001b[39m \u001b[38;5;124m\"\u001b[39m\u001b[38;5;124mcontent_and_artifact\u001b[39m\u001b[38;5;124m\"\u001b[39m:\n\u001b[1;32m    745\u001b[0m     \u001b[38;5;28;01mif\u001b[39;00m \u001b[38;5;129;01mnot\u001b[39;00m \u001b[38;5;28misinstance\u001b[39m(response, \u001b[38;5;28mtuple\u001b[39m) \u001b[38;5;129;01mor\u001b[39;00m \u001b[38;5;28mlen\u001b[39m(response) \u001b[38;5;241m!=\u001b[39m \u001b[38;5;241m2\u001b[39m:\n",
      "File \u001b[0;32m/home/zeus/miniconda3/envs/cloudspace/lib/python3.10/site-packages/langchain_core/tools/simple.py:105\u001b[0m, in \u001b[0;36mTool._run\u001b[0;34m(self, config, run_manager, *args, **kwargs)\u001b[0m\n\u001b[1;32m    103\u001b[0m     \u001b[38;5;28;01mif\u001b[39;00m config_param \u001b[38;5;241m:=\u001b[39m _get_runnable_config_param(\u001b[38;5;28mself\u001b[39m\u001b[38;5;241m.\u001b[39mfunc):\n\u001b[1;32m    104\u001b[0m         kwargs[config_param] \u001b[38;5;241m=\u001b[39m config\n\u001b[0;32m--> 105\u001b[0m     \u001b[38;5;28;01mreturn\u001b[39;00m \u001b[38;5;28;43mself\u001b[39;49m\u001b[38;5;241;43m.\u001b[39;49m\u001b[43mfunc\u001b[49m\u001b[43m(\u001b[49m\u001b[38;5;241;43m*\u001b[39;49m\u001b[43margs\u001b[49m\u001b[43m,\u001b[49m\u001b[43m \u001b[49m\u001b[38;5;241;43m*\u001b[39;49m\u001b[38;5;241;43m*\u001b[39;49m\u001b[43mkwargs\u001b[49m\u001b[43m)\u001b[49m\n\u001b[1;32m    106\u001b[0m msg \u001b[38;5;241m=\u001b[39m \u001b[38;5;124m\"\u001b[39m\u001b[38;5;124mTool does not support sync invocation.\u001b[39m\u001b[38;5;124m\"\u001b[39m\n\u001b[1;32m    107\u001b[0m \u001b[38;5;28;01mraise\u001b[39;00m \u001b[38;5;167;01mNotImplementedError\u001b[39;00m(msg)\n",
      "Cell \u001b[0;32mIn[4], line 23\u001b[0m, in \u001b[0;36minitalize_agent.<locals>.medical_search\u001b[0;34m(query, max_results)\u001b[0m\n\u001b[1;32m     21\u001b[0m results_text \u001b[38;5;241m=\u001b[39m []\n\u001b[1;32m     22\u001b[0m \u001b[38;5;28;01mwith\u001b[39;00m DDGS() \u001b[38;5;28;01mas\u001b[39;00m ddgs:\n\u001b[0;32m---> 23\u001b[0m     \u001b[38;5;28;01mfor\u001b[39;00m r \u001b[38;5;129;01min\u001b[39;00m \u001b[43mddgs\u001b[49m\u001b[38;5;241;43m.\u001b[39;49m\u001b[43mtext\u001b[49m\u001b[43m(\u001b[49m\u001b[43mfull_query\u001b[49m\u001b[43m,\u001b[49m\u001b[43m \u001b[49m\u001b[43mmax_results\u001b[49m\u001b[38;5;241;43m=\u001b[39;49m\u001b[43mmax_results\u001b[49m\u001b[43m)\u001b[49m:\n\u001b[1;32m     24\u001b[0m         title \u001b[38;5;241m=\u001b[39m r\u001b[38;5;241m.\u001b[39mget(\u001b[38;5;124m\"\u001b[39m\u001b[38;5;124mtitle\u001b[39m\u001b[38;5;124m\"\u001b[39m, \u001b[38;5;124m\"\u001b[39m\u001b[38;5;124m\"\u001b[39m)\n\u001b[1;32m     25\u001b[0m         snippet \u001b[38;5;241m=\u001b[39m r\u001b[38;5;241m.\u001b[39mget(\u001b[38;5;124m\"\u001b[39m\u001b[38;5;124mbody\u001b[39m\u001b[38;5;124m\"\u001b[39m, \u001b[38;5;124m\"\u001b[39m\u001b[38;5;124m\"\u001b[39m)\n",
      "File \u001b[0;32m/home/zeus/miniconda3/envs/cloudspace/lib/python3.10/site-packages/duckduckgo_search/duckduckgo_search.py:184\u001b[0m, in \u001b[0;36mDDGS.text\u001b[0;34m(self, keywords, region, safesearch, timelimit, backend, max_results)\u001b[0m\n\u001b[1;32m    181\u001b[0m         logger\u001b[38;5;241m.\u001b[39minfo(\u001b[38;5;124mf\u001b[39m\u001b[38;5;124m\"\u001b[39m\u001b[38;5;124mError to search using \u001b[39m\u001b[38;5;132;01m{\u001b[39;00mb\u001b[38;5;132;01m}\u001b[39;00m\u001b[38;5;124m backend: \u001b[39m\u001b[38;5;132;01m{\u001b[39;00mex\u001b[38;5;132;01m}\u001b[39;00m\u001b[38;5;124m\"\u001b[39m)\n\u001b[1;32m    182\u001b[0m         err \u001b[38;5;241m=\u001b[39m ex\n\u001b[0;32m--> 184\u001b[0m \u001b[38;5;28;01mraise\u001b[39;00m DuckDuckGoSearchException(err)\n",
      "\u001b[0;31mDuckDuckGoSearchException\u001b[0m: https://html.duckduckgo.com/html 202 Ratelimit"
     ]
    }
   ],
   "source": [
    "result, context = generate_with_agent(\"What are the side effects of ozempic?\", agent_executor)"
   ]
  },
  {
   "cell_type": "code",
   "execution_count": 29,
   "id": "3bf3ea7b-720f-4817-a14b-e02645ed4b0e",
   "metadata": {},
   "outputs": [
    {
     "data": {
      "text/plain": [
       "\"Based on information from trusted medical sources, Ozempic (semaglutide) is a medication used to improve blood sugar control in adults with type 2 diabetes.  It works by binding and activating GLP-1 receptors, which increases insulin release, slows stomach emptying, and reduces sugar production by the liver. This can lead to improved blood sugar levels, increased fullness, and potentially weight loss.  However, it's important to note that Ozempic has potential side effects and contraindications, including the risk of medullary thyroid carcinoma (MTC).  The FDA has also warned about counterfeit Ozempic in circulation.  For complete information on uses, dosages, side effects, warnings, and potential interactions, it's crucial to consult the prescribing information or a healthcare professional.\""
      ]
     },
     "execution_count": 29,
     "metadata": {},
     "output_type": "execute_result"
    }
   ],
   "source": [
    "result"
   ]
  },
  {
   "cell_type": "code",
   "execution_count": 30,
   "id": "b8b746d2-0a0f-4b00-bf2c-928d422d0a45",
   "metadata": {},
   "outputs": [
    {
     "data": {
      "text/plain": [
       "[(ToolAgentAction(tool='TrustedMedicalSearch', tool_input='ozempic', log='\\nInvoking: `TrustedMedicalSearch` with `ozempic`\\n\\n\\n', message_log=[AIMessageChunk(content='', additional_kwargs={'function_call': {'name': 'TrustedMedicalSearch', 'arguments': '{\"__arg1\": \"ozempic\"}'}}, response_metadata={'finish_reason': 'STOP', 'safety_ratings': []}, id='run--3e19f339-fbc8-4649-819c-4a691e78e172', tool_calls=[{'name': 'TrustedMedicalSearch', 'args': {'__arg1': 'ozempic'}, 'id': 'a8e6cc85-8f67-47bb-9e73-2e293d9c731c', 'type': 'tool_call'}], usage_metadata={'input_tokens': 138, 'output_tokens': 9, 'total_tokens': 147, 'input_token_details': {'cache_read': 0}}, tool_call_chunks=[{'name': 'TrustedMedicalSearch', 'args': '{\"__arg1\": \"ozempic\"}', 'id': 'a8e6cc85-8f67-47bb-9e73-2e293d9c731c', 'index': None, 'type': 'tool_call_chunk'}])], tool_call_id='a8e6cc85-8f67-47bb-9e73-2e293d9c731c'),\n",
       "  'Title: Ozempic: Uses, Dosage, Side Effects, Warnings - Drugs.com\\nSnippet: Ozempic works (mechanism of action) by binding and activating GLP-1 receptors, which increases insulin release, slows stomach emptying, and reduces sugar production by the liver. This results in improved blood sugar levels (HbA1c levels), prolonged fullness, and controlled appetite, which may result in weight loss. ...\\nSource: https://www.drugs.com/ozempic.html\\n\\nTitle: FDA warns consumers not to use counterfeit Ozempic (semaglutide) found\\nSnippet: FDA continues to investigate counterfeit Ozempic (semaglutide) injection 1 milligram (mg) in the legitimate U.S. drug supply chain and has seized thousands of units of the product. The agency ...\\nSource: https://www.fda.gov/drugs/drug-safety-and-availability/fda-warns-consumers-not-use-counterfeit-ozempic-semaglutide-found-us-drug-supply-chain\\n\\nTitle: OZEMPIC- semaglutide injection, solution - DailyMed\\nSnippet: OZEMPIC is contraindicated in patients with a personal or family history of MTC or in patients with Multiple Endocrine Neoplasia syndrome type 2 (MEN 2) [see Contraindications ]. Counsel patients regarding the potential risk for MTC with the use of OZEMPIC and inform them of symptoms of thyroid tumors (e.g. a mass in the neck, dysphagia ...\\nSource: https://dailymed.nlm.nih.gov/dailymed/drugInfo.cfm?setid=adec4fd2-6858-4c99-91d4-531f5f2a2d79\\n\\nTitle: Ozempic Patient Tips: 7 things you should know - Drugs.com\\nSnippet: Ozempic may also enhance the toxic effects of alcohol, causing flushing. Note that this list is not all-inclusive and includes only common medications that may interact with Ozempic. You should refer to the prescribing information for Ozempic for a complete list of interactions. Also, because Ozempic causes a delay in gastric emptying, it may ...\\nSource: https://www.drugs.com/tips/ozempic-patient-tips\\n\\nTitle: Results - Clinical Review Report: Semaglutide (Ozempic) - NCBI Bookshelf\\nSnippet: NCBI Bookshelf. A service of the National Library of Medicine, National Institutes of Health. Clinical Review Report: Semaglutide (Ozempic): (Novo Nordisk Canada Inc.): Indication: For the treatment of adult patients with type 2 diabetes mellitus to improve glycemic control, in combination with metformin (second-line treatment), and in combination with metformin and sulfonylurea (third-line ...\\nSource: https://www.ncbi.nlm.nih.gov/books/NBK544016/')]"
      ]
     },
     "execution_count": 30,
     "metadata": {},
     "output_type": "execute_result"
    }
   ],
   "source": [
    "context"
   ]
  },
  {
   "cell_type": "code",
   "execution_count": 22,
   "id": "abffe7d2-1950-47ce-95e2-008715469439",
   "metadata": {},
   "outputs": [
    {
     "name": "stderr",
     "output_type": "stream",
     "text": [
      "Device set to use cuda:0\n"
     ]
    },
    {
     "data": {
      "text/plain": [
       "'\\n  \\n  The provided context does not contain information about \"Ozempic.\" It is possible that Ozempic is not mentioned in the context or the context does not provide enough information about it.'"
      ]
     },
     "execution_count": 22,
     "metadata": {},
     "output_type": "execute_result"
    }
   ],
   "source": [
    "result, context = generate(\"What is ozempic?\")\n",
    "result"
   ]
  },
  {
   "cell_type": "code",
   "execution_count": 23,
   "id": "182370d9-81ab-4410-a3a5-92b9566cf24b",
   "metadata": {},
   "outputs": [
    {
     "data": {
      "text/plain": [
       "['Summary of AMOXICILLIN | Uses: Adults and Pediatric Patients Upper Respiratory Tract Infections of the Ear, Nose, and Throat: Amoxicillin for Oral Suspension, USP is indicated in the treatment of infections due to susceptible (ONLY β-lactamase–negative) isolates of Streptococcus species. (α-and β-hemolytic isolates only), Streptococcus pneumoniae , Staphylococcus spp., or Haemophilus influenzae . Infections of the Genitourinary Tract: Amoxicillin for Oral Suspension, USP is indicated in the treatment of infections due to susceptible (ONLY β-lactamase–negative) isolates of Escherichia coli , Proteus mirabilis , or Enterococcus faecalis . Infections of the Skin and Skin Structure: Amoxicillin for Oral Suspension, USP is indicated in the treatment of infections due to susceptible (ONLY β-lactamase–negative) isolates of Streptococcus spp. (α-and β-hemolytic isolates only), Staphylococcus spp., or E. coli . Infections of the Lower Respiratory Tract: Amoxicillin for Oral Suspension, USP is indicated in the treatment of infections due to susceptible (ONLY β-lactamase–negative) isolates of Streptococcus spp. (α-and β-hemolytic isolates only), S. pneumoniae , Staphylococcus spp., or H. influenzae . Adult Patients only Helicobacter pylori Infection and Duodenal Ulcer Disease: Triple therapy for Helicobacter pylori (H. pylori) with clarithromycin and lansoprazole: Amoxicillin for Oral Suspension, USP, in combination with clarithromycin plus lansoprazole as triple therapy, is indicated for the treatment of patients with H. pylori infection and duodenal ulcer disease (active or 1-year history of a duodenal ulcer) to eradicate H. pylori . Eradication of H. pylori has been shown to reduce the risk of duodenal ulcer recurrence. Dual therapy for H. pylori with lansoprazole: Amoxicillin for Oral Suspension, USP, in combination with lansoprazole delayed-release capsules as dual therapy, is indicated for the treatment of patients with H. pylori infection and duodenal ulcer disease (active or 1-year history of a duodenal ulcer) who are either allergic or intolerant to clarithromycin or in whom resistance to clarithromycin is known or suspected. (See the clarithromycin package insert, MICROBIOLOGY.) Eradication of H. pylori has been shown to reduce the risk of duodenal ulcer recurrence. Usage To reduce the development of drug-resistant bacteria and maintain the effectiveness of Amoxicillin for Oral Suspension, USP, and other antibacterial drugs, Amoxicillin for Oral Suspension, USP, should be used only to treat infections that are proven or strongly suspected to be caused by bacteria. When culture and susceptibility information are available, they should be considered in selecting or modifying antibacterial therapy. In the absence of such data, local epidemiology and susceptibility patterns may contribute to the empiric selection of therapy. Amoxicillin for Oral Suspension, USP is a penicillin-class antibacterial indicated for treatment of infections due to susceptible strains of designated microorganisms. ( 1 ) Adults and Pediatric Patients ( 1 ) Upper Respiratory Tract Infections of the Ear, Nose, and Throat Infections of the Genitourinary Tract Infections of the Skin and Skin Structure Infections of the Lower Respiratory Tract Adult Patients only ( 1 ) Helicobacter pylori Infection and Duodenal Ulcer Disease Usage To reduce the development of drug-resistant bacteria and maintain the effectiveness of Amoxicillin for Oral Suspension, USP and other antibacterial drugs, Amoxicillin for Oral Suspension, USP should be used only to treat or prevent infections that are proven or strongly suspected to be caused by bacteria. ( 1 ) and Amoxicillin for Oral Suspension, is a semisynthetic antibacterial (amoxicillin), an analog of ampicillin, with a broad spectrum of bactericidal activity against many Gram-positive and Gram-negative microorganisms. Chemically, it is (2S,5R,6R)-6-[(R)-(-)-2-amino-2-(p-hydroxyphenyl)acetamido]-3,3-dimethyl-7-oxo-4-thia-1-zabicyclo[3.2.0]heptane-2-carboxylic acid trihydrate. It may be represented structurally as: The amoxicillin molecular formula is C 16 H 19 N 3 O 5 S•3H 2 O, and the molecular weight is 419.45. For Oral Suspension: Each 5 mL of reconstituted suspension contains 200 mg or 400 mg of amoxicillin as the trihydrate. Each 5 mL of the 200 mg and 400 mg reconstituted suspension contains 0.1898 mEq (4.3635 mg) of sodium. Inactive ingredients: colloidal silicon dioxide, hypromellose, sodium benzoate, sucrose, trisodium citrate dihydrate, tutti frutti flavor and xanthan gum. structural formula |  and  | Reactions: The following are discussed in more detail in other sections of the labeling: Anaphylactic reactions  Severe Cutaneous Adverse Reactions  Clostridioides difficile -Associated Diarrhea   The most common adverse reactions  observed in clinical trials of Amoxicillin for Oral Suspension, USP were diarrhea, rash, vomiting, and nausea.  To report SUSPECTED ADVERSE REACTIONS, contact Hikma Pharmaceuticals USA Inc. at 1-877-233-2001, or the FDA at 1-800-FDA-1088 or www.fda.gov/medwatch.']"
      ]
     },
     "execution_count": 23,
     "metadata": {},
     "output_type": "execute_result"
    }
   ],
   "source": [
    "context"
   ]
  },
  {
   "cell_type": "code",
   "execution_count": null,
   "id": "22853654-44a1-4c88-be9b-452478ff4786",
   "metadata": {},
   "outputs": [],
   "source": []
  }
 ],
 "metadata": {
  "kernelspec": {
   "display_name": "Python 3",
   "language": "python",
   "name": "python3"
  },
  "language_info": {
   "codemirror_mode": {
    "name": "ipython",
    "version": 3
   },
   "file_extension": ".py",
   "mimetype": "text/x-python",
   "name": "python",
   "nbconvert_exporter": "python",
   "pygments_lexer": "ipython3",
   "version": "3.10.10"
  }
 },
 "nbformat": 4,
 "nbformat_minor": 5
}
