{
 "cells": [
  {
   "cell_type": "code",
   "execution_count": 2,
   "id": "6ce96a0b-dd60-410c-bec1-95496d24d656",
   "metadata": {},
   "outputs": [],
   "source": [
    "from langchain.agents import AgentExecutor, create_tool_calling_agent, Tool\n",
    "from duckduckgo_search import DDGS\n",
    "from langchain_core.prompts import ChatPromptTemplate\n",
    "from langchain_core.messages import AIMessage\n",
    "from langchain_google_genai import ChatGoogleGenerativeAI\n",
    "import re\n",
    "import os\n",
    "from dotenv import load_dotenv"
   ]
  },
  {
   "cell_type": "code",
   "execution_count": 3,
   "id": "d2d0efb8-d6f2-40ff-9bc5-e43f575be29e",
   "metadata": {},
   "outputs": [],
   "source": [
    "load_dotenv(\"secrets.env\")\n",
    "my_key = os.getenv(\"GEMINI_KEY\")\n",
    "\n",
    "os.environ[\"GOOGLE_API_KEY\"] = my_key\n",
    "llm = ChatGoogleGenerativeAI(model=\"gemini-1.5-flash\", temperature=0.7)"
   ]
  },
  {
   "cell_type": "code",
   "execution_count": 4,
   "id": "cd64ac76-ea5f-4fe4-8bc4-80667c2cc080",
   "metadata": {},
   "outputs": [],
   "source": [
    "TRUSTED_SITES = [\n",
    "    \"cdc.gov\", \n",
    "    \"nih.gov\",\n",
    "    \"drugs.com\",\n",
    "    \"medlineplus.gov\",\n",
    "    \"hopkinsmedicine.org\",\n",
    "    \"who.int\",\n",
    "    \"fda.gov\",\n",
    "    \"health.harvard.edu\"\n",
    "]"
   ]
  },
  {
   "cell_type": "code",
   "execution_count": 5,
   "id": "efbd6c55-1308-4377-9ffe-af9bb740eb78",
   "metadata": {},
   "outputs": [],
   "source": [
    "def medical_search(query: str, max_results: int = 5) -> str:\n",
    "    filter_domains = \" OR \".join([f\"site:{domain}\" for domain in TRUSTED_SITES])\n",
    "    full_query = f\"{query} {filter_domains}\"\n",
    "\n",
    "    results_text = []\n",
    "    with DDGS() as ddgs:\n",
    "        for r in ddgs.text(full_query, max_results=max_results):\n",
    "            title = r.get(\"title\", \"\")\n",
    "            snippet = r.get(\"body\", \"\")\n",
    "            url = r.get(\"href\", \"\")\n",
    "            results_text.append(f\"Title: {title}\\nSnippet: {snippet}\\nSource: {url}\")\n",
    "\n",
    "    return \"\\n\\n\".join(results_text) if results_text else \"No trusted medical sources found.\""
   ]
  },
  {
   "cell_type": "code",
   "execution_count": 6,
   "id": "afb0e0df-383d-4086-a7ab-7189faa79dc6",
   "metadata": {},
   "outputs": [],
   "source": [
    "tools = [\n",
    "    Tool(\n",
    "        name=\"TrustedMedicalSearch\",\n",
    "        func=medical_search,\n",
    "        description=\"Searches medical information from trusted sources like CDC, NIH, Mayo Clinic, and more.\"\n",
    "    )\n",
    "]"
   ]
  },
  {
   "cell_type": "code",
   "execution_count": 7,
   "id": "e6cdeb66-6acb-4b05-8efd-f1075ec40f38",
   "metadata": {},
   "outputs": [],
   "source": [
    "prompt = ChatPromptTemplate.from_messages(\n",
    "    [(\"system\", (\n",
    "        \"You are a medical assistant. You have access to a specialized web search tool \"\n",
    "        \"that ONLY returns information from a predefined list of trustworthy sources, \"\n",
    "        \"including reputable general, academic, and medical websites. \"\n",
    "        \"Use this tool when you need to find current or specific information. \"\n",
    "        \"When you provide an answer based on information from the search tool, \"\n",
    "        \"If the tool returns 'No information found from trusted sources', state that clearly and do not invent information.\"\n",
    "        )),\n",
    "        (\"user\", \"{input}\"),\n",
    "        AIMessage(content=\"Okay, I will use the trusted search tool if necessary to find the answer from reliable sources.\"),\n",
    "        (\"placeholder\", \"{agent_scratchpad}\"),\n",
    "    ]\n",
    ")"
   ]
  },
  {
   "cell_type": "code",
   "execution_count": 8,
   "id": "07c5b545-c4c8-449b-a0ba-ebff91e7a788",
   "metadata": {},
   "outputs": [],
   "source": [
    "agent = create_tool_calling_agent(llm, tools, prompt)"
   ]
  },
  {
   "cell_type": "code",
   "execution_count": 9,
   "id": "067a8cd1-b4e0-4b6c-b0b1-c9d6202276fb",
   "metadata": {},
   "outputs": [],
   "source": [
    "agent_executor = AgentExecutor(agent=agent, tools=tools, verbose=True, handle_parsing_errors=True, return_intermediate_steps=True)"
   ]
  },
  {
   "cell_type": "code",
   "execution_count": 12,
   "id": "aa22dbce-12b3-4943-b5ea-904fa9341c5c",
   "metadata": {},
   "outputs": [],
   "source": [
    "user_input = \"What is Ozempic?\""
   ]
  },
  {
   "cell_type": "code",
   "execution_count": 13,
   "id": "9236c002-b133-484a-a135-2497621709b1",
   "metadata": {},
   "outputs": [
    {
     "name": "stdout",
     "output_type": "stream",
     "text": [
      "\n",
      "\n",
      "\u001b[1m> Entering new AgentExecutor chain...\u001b[0m\n",
      "\u001b[32;1m\u001b[1;3m\n",
      "Invoking: `TrustedMedicalSearch` with `Ozempic`\n",
      "\n",
      "\n",
      "\u001b[0m\u001b[36;1m\u001b[1;3mTitle: Ozempic: Uses, Dosage, Side Effects, Warnings - Drugs.com\n",
      "Snippet: Ozempic works (mechanism of action) by binding and activating GLP-1 receptors, which increases insulin release, slows stomach emptying, and reduces sugar production by the liver. This results in improved blood sugar levels (HbA1c levels), prolonged fullness, and controlled appetite, which may result in weight loss. ...\n",
      "Source: https://www.drugs.com/ozempic.html\n",
      "\n",
      "Title:  Ozempic PI - National Institutes of Health\n",
      "Snippet: OZEMPIC® causes thyroid C-cell tumors, including medullary thyroid carcinoma (MTC), in humans as the human relevance of semaglutide-induced rodent thyroid C-cell tumors has not been determined (5.1, 13.1). • ®OZEMPIC is contraindicated in patients with a personal or family history of\n",
      "Source: https://rsc.niaid.nih.gov/sites/default/files/1.14.2.2-package-insert-ozempic.pdf\n",
      "\n",
      "Title: FDA warns consumers not to use counterfeit Ozempic (semaglutide) found\n",
      "Snippet: FDA continues to investigate counterfeit Ozempic (semaglutide) injection 1 milligram (mg) in the legitimate U.S. drug supply chain and has seized thousands of units of the product. The agency ...\n",
      "Source: https://www.fda.gov/drugs/drug-safety-and-availability/fda-warns-consumers-not-use-counterfeit-ozempic-semaglutide-found-us-drug-supply-chain\n",
      "\n",
      "Title: OZEMPIC- semaglutide injection, solution - DailyMed\n",
      "Snippet: OZEMPIC is contraindicated in patients with a personal or family history of MTC or in patients with Multiple Endocrine Neoplasia syndrome type 2 (MEN 2) [see Contraindications ]. Counsel patients regarding the potential risk for MTC with the use of OZEMPIC and inform them of symptoms of thyroid tumors (e.g. a mass in the neck, dysphagia ...\n",
      "Source: https://dailymed.nlm.nih.gov/dailymed/drugInfo.cfm?setid=adec4fd2-6858-4c99-91d4-531f5f2a2d79\n",
      "\n",
      "Title: Results - Clinical Review Report: Semaglutide (Ozempic) - NCBI Bookshelf\n",
      "Snippet: NCBI Bookshelf. A service of the National Library of Medicine, National Institutes of Health. Clinical Review Report: Semaglutide (Ozempic): (Novo Nordisk Canada Inc.): Indication: For the treatment of adult patients with type 2 diabetes mellitus to improve glycemic control, in combination with metformin (second-line treatment), and in combination with metformin and sulfonylurea (third-line ...\n",
      "Source: https://www.ncbi.nlm.nih.gov/books/NBK544016/\u001b[0m\u001b[32;1m\u001b[1;3mOzempic (semaglutide) is a medication used to improve blood sugar control in adults with type 2 diabetes.  It works by binding to and activating GLP-1 receptors, which increases insulin release, slows stomach emptying, and reduces sugar production by the liver. This leads to improved blood sugar levels, increased fullness, and appetite control, potentially resulting in weight loss.\n",
      "\n",
      "However, it's important to note that Ozempic is contraindicated in patients with a personal or family history of medullary thyroid carcinoma (MTC) or Multiple Endocrine Neoplasia syndrome type 2 (MEN 2).  There is a potential risk of MTC with Ozempic use, and patients should be aware of symptoms like a neck mass or difficulty swallowing.  Counterfeit Ozempic has also been found in the US drug supply chain, so it's crucial to obtain it from a legitimate source.  More information can be found on websites like Drugs.com, the National Institutes of Health, and the FDA.\u001b[0m\n",
      "\n",
      "\u001b[1m> Finished chain.\u001b[0m\n",
      "Ozempic (semaglutide) is a medication used to improve blood sugar control in adults with type 2 diabetes.  It works by binding to and activating GLP-1 receptors, which increases insulin release, slows stomach emptying, and reduces sugar production by the liver. This leads to improved blood sugar levels, increased fullness, and appetite control, potentially resulting in weight loss.\n",
      "\n",
      "However, it's important to note that Ozempic is contraindicated in patients with a personal or family history of medullary thyroid carcinoma (MTC) or Multiple Endocrine Neoplasia syndrome type 2 (MEN 2).  There is a potential risk of MTC with Ozempic use, and patients should be aware of symptoms like a neck mass or difficulty swallowing.  Counterfeit Ozempic has also been found in the US drug supply chain, so it's crucial to obtain it from a legitimate source.  More information can be found on websites like Drugs.com, the National Institutes of Health, and the FDA.\n"
     ]
    }
   ],
   "source": [
    "response = agent_executor.invoke({\"input\": user_input})\n",
    "print(f\"{response['output']}\") "
   ]
  },
  {
   "cell_type": "code",
   "execution_count": 33,
   "id": "35c45194-c908-4615-9626-507a7511fca1",
   "metadata": {},
   "outputs": [
    {
     "name": "stdout",
     "output_type": "stream",
     "text": [
      "\n",
      "--- Agent's Intermediate Steps (Context & Raw Tool Output) ---\n",
      "Step 1:\n",
      "  Action Tool: TrustedMedicalSearch\n",
      "  Action Input: Ozempic side effects\n",
      "  Observation (Raw Tool Output):\n",
      "Title: Ozempic Side Effects: Common, Severe, Long Term - Drugs.com\n",
      "Snippet: Learn about the side effects of Ozempic (semaglutide), from common to rare, for consumers and healthcare professionals.\n",
      "Source: https://www.drugs.com/sfx/ozempic-side-effects.html\n",
      "\n",
      "Title: DailyMed - OZEMPIC- semaglutide injection, solution\n",
      "Snippet: OZEMPIC (semaglutide) injection, for subcutaneous use, contains semaglutide, a human GLP-1 receptor agonist (or GLP-1 analog). The peptide backbone is produced by yeast fermentation.\n",
      "Source: https://dailymed.nlm.nih.gov/dailymed/drugInfo.cfm?setid=adec4fd2-6858-4c99-91d4-531f5f2a2d79\n",
      "\n",
      "Title: PDF\n",
      "Snippet: The developmental and health benefits of breastfeeding should be considered along with the mother's clinical need for OZEMPIC® and any potential adverse effects on the breastfed infant from OZEMPIC® or from the underlying maternal condition.\n",
      "Source: https://rsc.niaid.nih.gov/sites/default/files/1.14.2.2-package-insert-ozempic.pdf\n",
      "\n",
      "Title: PDF\n",
      "Snippet: OZEMPIC is a glucagon-like peptide 1 (GLP-1) receptor agonist indicated as an adjunct to diet and exercise to improve glycemic control in adults with type 2 diabetes mellitus (1). Limitations of Use: Not recommended as first-line therapy for patients inadequately controlled on diet and exercise (1, 5.1).\n",
      "Source: https://www.accessdata.fda.gov/drugsatfda_docs/label/2017/209637lbl.pdf\n",
      "\n",
      "Title: Ozempic: Uses, Dosage, Side Effects, Warnings - Drugs.com\n",
      "Snippet: Serious side effects Ozempic can cause serious side effects such as inflammation of the pancreas, vision changes, low blood sugar levels, kidney problems, and serious allergic reactions, and it can also increase the risk of food or liquid getting into your lungs during surgery or a medical procedure (see Ozempic side effects to watch for).\n",
      "Source: https://www.drugs.com/ozempic.html\n",
      "---\n"
     ]
    }
   ],
   "source": [
    "if 'intermediate_steps' in response and response['intermediate_steps']:\n",
    "    print(\"\\n--- Agent's Intermediate Steps (Context & Raw Tool Output) ---\")\n",
    "    for step_number, (action, observation) in enumerate(response['intermediate_steps']):\n",
    "        print(f\"Step {step_number + 1}:\")\n",
    "        print(f\"  Action Tool: {action.tool}\")\n",
    "        print(f\"  Action Input: {action.tool_input}\")\n",
    "        print(f\"  Observation (Raw Tool Output):\\n{observation}\\n---\")"
   ]
  }
 ],
 "metadata": {
  "kernelspec": {
   "display_name": "Python 3",
   "language": "python",
   "name": "python3"
  },
  "language_info": {
   "codemirror_mode": {
    "name": "ipython",
    "version": 3
   },
   "file_extension": ".py",
   "mimetype": "text/x-python",
   "name": "python",
   "nbconvert_exporter": "python",
   "pygments_lexer": "ipython3",
   "version": "3.10.10"
  }
 },
 "nbformat": 4,
 "nbformat_minor": 5
}
