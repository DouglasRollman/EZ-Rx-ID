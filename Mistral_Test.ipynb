{
 "cells": [
  {
   "cell_type": "markdown",
   "metadata": {},
   "source": [
    "Playing around with mistral and flag embeddings"
   ]
  },
  {
   "cell_type": "code",
   "execution_count": 3,
   "metadata": {},
   "outputs": [],
   "source": [
    "import pandas as pd \n",
    "#pip install -U FlagEmbedding\n",
    "#pip install langchain\n",
    "#pip install mistral_inference\n",
    "#pip install faiss-cpu"
   ]
  },
  {
   "cell_type": "code",
   "execution_count": 4,
   "metadata": {},
   "outputs": [],
   "source": [
    "from FlagEmbedding import FlagAutoModel\n",
    "\n",
    "embed_model = FlagAutoModel.from_finetuned('BAAI/bge-base-en-v1.5',\n",
    "                                      query_instruction_for_retrieval=\"Represent this sentence for searching relevant passages:\",\n",
    "                                      use_fp16=True)"
   ]
  },
  {
   "cell_type": "code",
   "execution_count": 5,
   "metadata": {},
   "outputs": [
    {
     "data": {
      "text/plain": [
       "'\\ndf = pd.read_csv(\\'Data/Medicine_Details.csv\\')\\ndf.drop(columns={\"Image URL\", \"Excellent Review %\", \\n                 \"Average Review %\", \"Poor Review %\"},inplace=True)\\ndf[\\'Combined_Info\\'] = \\'Name: \\' + df[\\'Medicine Name\\'] + \\' | Uses: \\' + df[\\'Uses\\'] + \\' | Side Effects: \\' + df[\\'Side_effects\\']\\nembeddings = embed_model.encode(df[\\'Combined_Info\\'].to_list())\\ndf[\\'embeddings\\'] = embeddings\\ndf.head()\\ndf.to_csv(\\'test.csv\\', index=False)\\n'"
      ]
     },
     "execution_count": 5,
     "metadata": {},
     "output_type": "execute_result"
    }
   ],
   "source": [
    "# Removes extraneous columns and creates embeddings in the array\n",
    "\n",
    "\"\"\"\n",
    "df = pd.read_csv('Data/Medicine_Details.csv')\n",
    "df.drop(columns={\"Image URL\", \"Excellent Review %\", \n",
    "                 \"Average Review %\", \"Poor Review %\"},inplace=True)\n",
    "df['Combined_Info'] = 'Name: ' + df['Medicine Name'] + ' | Uses: ' + df['Uses'] + ' | Side Effects: ' + df['Side_effects']\n",
    "embeddings = embed_model.encode(df['Combined_Info'].to_list())\n",
    "df['embeddings'] = embeddings\n",
    "df.head()\n",
    "df.to_csv('test.csv', index=False)\n",
    "\"\"\""
   ]
  },
  {
   "cell_type": "code",
   "execution_count": 6,
   "metadata": {},
   "outputs": [],
   "source": [
    "df = pd.read_csv('Data/test.csv')"
   ]
  },
  {
   "cell_type": "code",
   "execution_count": null,
   "metadata": {},
   "outputs": [],
   "source": [
    "#Testing the embeddings with cosine_similarity\n",
    "\n",
    "\"\"\"\n",
    "from sklearn.metrics.pairwise import cosine_similarity\n",
    "import numpy as np\n",
    "\n",
    "query = \"Tell me what Avastin's uses and side effects are\"\n",
    "query_embedded = model.encode([query])\n",
    "\n",
    "similarity_scores = cosine_similarity(query_embedded, embeddings)\n",
    "most_similar_idx = np.argmax(similarity_scores)\n",
    "most_similar_row = df.iloc[most_similar_idx]\n",
    "print(\"Most Relevant Row:\")\n",
    "print(most_similar_row)\n",
    "\"\"\""
   ]
  },
  {
   "cell_type": "code",
   "execution_count": 7,
   "metadata": {},
   "outputs": [],
   "source": [
    "import faiss\n",
    "import numpy as np\n",
    "\n",
    "# Create and store faiss index\n",
    "\n",
    "\"\"\"\n",
    "embedding_array = np.array(embeddings).astype('float32')\n",
    "index = faiss.IndexFlatL2(embedding_array.shape[1])\n",
    "index.add(embedding_array)\n",
    "faiss.write_index(index, \"faiss_index.bin\")\n",
    "\"\"\"\n",
    "index = faiss.read_index('faiss_index.bin')"
   ]
  },
  {
   "cell_type": "code",
   "execution_count": 8,
   "metadata": {},
   "outputs": [
    {
     "data": {
      "application/vnd.jupyter.widget-view+json": {
       "model_id": "7d36e83d4f7549798dfa532f190171f2",
       "version_major": 2,
       "version_minor": 0
      },
      "text/plain": [
       "Loading checkpoint shards:   0%|          | 0/3 [00:00<?, ?it/s]"
      ]
     },
     "metadata": {},
     "output_type": "display_data"
    },
    {
     "name": "stderr",
     "output_type": "stream",
     "text": [
      "Some parameters are on the meta device because they were offloaded to the cpu and disk.\n"
     ]
    }
   ],
   "source": [
    "from transformers import AutoModelForCausalLM, AutoTokenizer\n",
    "import torch\n",
    "\n",
    "model_name = \"mistralai/Mistral-7B-Instruct-v0.3\"\n",
    "model = AutoModelForCausalLM.from_pretrained(model_name, device_map=\"auto\", torch_dtype=torch.float16)\n",
    "tokenizer = AutoTokenizer.from_pretrained(model_name)"
   ]
  },
  {
   "cell_type": "code",
   "execution_count": 9,
   "metadata": {},
   "outputs": [
    {
     "name": "stderr",
     "output_type": "stream",
     "text": [
      "You're using a BertTokenizerFast tokenizer. Please note that with a fast tokenizer, using the `__call__` method is faster than using a method to encode the text followed by a call to the `pad` method to get a padded encoding.\n"
     ]
    },
    {
     "data": {
      "text/html": [
       "<div>\n",
       "<style scoped>\n",
       "    .dataframe tbody tr th:only-of-type {\n",
       "        vertical-align: middle;\n",
       "    }\n",
       "\n",
       "    .dataframe tbody tr th {\n",
       "        vertical-align: top;\n",
       "    }\n",
       "\n",
       "    .dataframe thead th {\n",
       "        text-align: right;\n",
       "    }\n",
       "</style>\n",
       "<table border=\"1\" class=\"dataframe\">\n",
       "  <thead>\n",
       "    <tr style=\"text-align: right;\">\n",
       "      <th></th>\n",
       "      <th>Medicine Name</th>\n",
       "      <th>Composition</th>\n",
       "      <th>Uses</th>\n",
       "      <th>Side_effects</th>\n",
       "      <th>Manufacturer</th>\n",
       "      <th>Combined_Info</th>\n",
       "      <th>embeddings</th>\n",
       "    </tr>\n",
       "  </thead>\n",
       "  <tbody>\n",
       "    <tr>\n",
       "      <th>0</th>\n",
       "      <td>Avastin 400mg Injection</td>\n",
       "      <td>Bevacizumab (400mg)</td>\n",
       "      <td>Cancer of colon and rectum Non-small cell lun...</td>\n",
       "      <td>Rectal bleeding Taste change Headache Noseblee...</td>\n",
       "      <td>Roche Products India Pvt Ltd</td>\n",
       "      <td>Name: Avastin 400mg Injection | Uses:  Cancer ...</td>\n",
       "      <td>[-0.029142677783966064, 0.04442485049366951, -...</td>\n",
       "    </tr>\n",
       "    <tr>\n",
       "      <th>589</th>\n",
       "      <td>Avapar Tablet</td>\n",
       "      <td>Camylofin (50mg) + Diclofenac (50mg)</td>\n",
       "      <td>Abdominal cramp</td>\n",
       "      <td>Nausea Vomiting Heartburn Stomach pain Indiges...</td>\n",
       "      <td>Khandelwal Laboratories Pvt Ltd</td>\n",
       "      <td>Name: Avapar Tablet | Uses:  Abdominal cramp |...</td>\n",
       "      <td>[0.00592622859403491, 0.03648262098431587, -0....</td>\n",
       "    </tr>\n",
       "    <tr>\n",
       "      <th>412</th>\n",
       "      <td>Avas 40 Tablet</td>\n",
       "      <td>Atorvastatin (40mg)</td>\n",
       "      <td>High cholesterolPrevention of Heart attack</td>\n",
       "      <td>Dyspepsia Abdominal pain Indigestion Diarrhea ...</td>\n",
       "      <td>Micro Labs Ltd</td>\n",
       "      <td>Name: Avas 40 Tablet | Uses:  High cholesterol...</td>\n",
       "      <td>[-0.028077833354473114, 0.04028759524226189, -...</td>\n",
       "    </tr>\n",
       "  </tbody>\n",
       "</table>\n",
       "</div>"
      ],
      "text/plain": [
       "               Medicine Name                           Composition  \\\n",
       "0    Avastin 400mg Injection                   Bevacizumab (400mg)   \n",
       "589            Avapar Tablet  Camylofin (50mg) + Diclofenac (50mg)   \n",
       "412           Avas 40 Tablet                   Atorvastatin (40mg)   \n",
       "\n",
       "                                                  Uses  \\\n",
       "0     Cancer of colon and rectum Non-small cell lun...   \n",
       "589                                    Abdominal cramp   \n",
       "412         High cholesterolPrevention of Heart attack   \n",
       "\n",
       "                                          Side_effects  \\\n",
       "0    Rectal bleeding Taste change Headache Noseblee...   \n",
       "589  Nausea Vomiting Heartburn Stomach pain Indiges...   \n",
       "412  Dyspepsia Abdominal pain Indigestion Diarrhea ...   \n",
       "\n",
       "                        Manufacturer  \\\n",
       "0       Roche Products India Pvt Ltd   \n",
       "589  Khandelwal Laboratories Pvt Ltd   \n",
       "412                   Micro Labs Ltd   \n",
       "\n",
       "                                         Combined_Info  \\\n",
       "0    Name: Avastin 400mg Injection | Uses:  Cancer ...   \n",
       "589  Name: Avapar Tablet | Uses:  Abdominal cramp |...   \n",
       "412  Name: Avas 40 Tablet | Uses:  High cholesterol...   \n",
       "\n",
       "                                            embeddings  \n",
       "0    [-0.029142677783966064, 0.04442485049366951, -...  \n",
       "589  [0.00592622859403491, 0.03648262098431587, -0....  \n",
       "412  [-0.028077833354473114, 0.04028759524226189, -...  "
      ]
     },
     "execution_count": 9,
     "metadata": {},
     "output_type": "execute_result"
    }
   ],
   "source": [
    "query = \"Tell me what Avastin's uses and side effects are\"\n",
    "query_embedding = embed_model.encode([query])\n",
    "query_embedding_np = np.array(query_embedding).astype('float32')\n",
    "\n",
    "D, I = index.search(query_embedding_np, 3)\n",
    "retrieved_rows = df.iloc[I[0]]\n",
    "retrieved_rows"
   ]
  },
  {
   "cell_type": "code",
   "execution_count": 10,
   "metadata": {},
   "outputs": [],
   "source": [
    "context = \" \".join(retrieved_rows['Combined_Info'].tolist())\n",
    "prompt = f\"Based on the following context, answer the question:\\n\\nContext: {context}\\n\\nQuestion: {query}\"\n",
    "inputs = tokenizer(prompt, return_tensors=\"pt\", truncation=True, max_length=400)"
   ]
  },
  {
   "cell_type": "code",
   "execution_count": null,
   "metadata": {},
   "outputs": [],
   "source": [
    "with torch.no_grad():\n",
    "    output = model.generate(**inputs, max_new_tokens=100, do_sample=False)"
   ]
  },
  {
   "cell_type": "code",
   "execution_count": null,
   "metadata": {},
   "outputs": [
    {
     "data": {
      "text/plain": [
       "\"Based on the following context, answer the question:\\n\\nContext: Name: Avastin 400mg Injection | Uses:  Cancer of colon and rectum Non-small cell lung cancer Kidney cancer Brain tumor Ovarian cancer Cervical cancer | Side Effects: Rectal bleeding Taste change Headache Nosebleeds Back pain Dry skin High blood pressure Protein in urine Inflammation of the nose Name: Avapar Tablet | Uses:  Abdominal cramp | Side Effects: Nausea Vomiting Heartburn Stomach pain Indigestion Loss of appetite Diarrhea Name: Avas 40 Tablet | Uses:  High cholesterolPrevention of Heart attack | Side Effects: Dyspepsia Abdominal pain Indigestion Diarrhea Joint pain Nasopharyngitis inflammation of the throat and nasal passages Nausea Pain in extremities Urinary tract infection Abnormal liver function tests\\n\\nQuestion: Tell me what Avastin's uses and side effects are.\\n\\nAnswer: Avastin's uses include cancer of colon and rectum, non-small cell lung cancer, kidney cancer, brain tumor, ovarian cancer, and cervical cancer. Side effects of Avastin include rectal bleeding, taste change, headache, nosebleeds, back pain, dry skin, high blood pressure, protein in urine, and inflammation of the nose.\""
      ]
     },
     "execution_count": 19,
     "metadata": {},
     "output_type": "execute_result"
    }
   ],
   "source": [
    "generated_text = tokenizer.decode(output[0], skip_special_tokens=True)\n",
    "generated_text  "
   ]
  },
  {
   "cell_type": "markdown",
   "metadata": {},
   "source": [
    "The return text is good, but need to keep in mind the data is very simple compared to promised MVP and model took 2 hours to generate the text."
   ]
  },
  {
   "cell_type": "markdown",
   "metadata": {},
   "source": [
    "Test 2"
   ]
  },
  {
   "cell_type": "code",
   "execution_count": 12,
   "metadata": {},
   "outputs": [
    {
     "data": {
      "application/vnd.jupyter.widget-view+json": {
       "model_id": "c6705b2a713d4802aae5a8fc95b8ab13",
       "version_major": 2,
       "version_minor": 0
      },
      "text/plain": [
       "Fetching 3 files:   0%|          | 0/3 [00:00<?, ?it/s]"
      ]
     },
     "metadata": {},
     "output_type": "display_data"
    },
    {
     "data": {
      "text/plain": [
       "'C:\\\\Users\\\\Jason\\\\mistral_models\\\\7B-Instruct-v0.3'"
      ]
     },
     "execution_count": 12,
     "metadata": {},
     "output_type": "execute_result"
    }
   ],
   "source": [
    "from huggingface_hub import snapshot_download\n",
    "from pathlib import Path\n",
    "\n",
    "mistral_models_path = Path.home().joinpath('mistral_models', '7B-Instruct-v0.3')\n",
    "mistral_models_path.mkdir(parents=True, exist_ok=True)\n",
    "\n",
    "snapshot_download(repo_id=\"mistralai/Mistral-7B-Instruct-v0.3\", allow_patterns=[\"params.json\", \"consolidated.safetensors\", \"tokenizer.model.v3\"], local_dir=mistral_models_path)"
   ]
  },
  {
   "cell_type": "code",
   "execution_count": 13,
   "metadata": {},
   "outputs": [],
   "source": [
    "# Might need to install certain things based on pc build and GPU\n",
    "# pip install pip install torch==2.6.0+cu124 torchvision torchaudio --index-url https://download.pytorch.org/whl/cu124\n",
    "\n",
    "from mistral_inference.transformer import Transformer\n",
    "from mistral_inference.generate import generate\n",
    "\n",
    "from mistral_common.tokens.tokenizers.mistral import MistralTokenizer\n",
    "from mistral_common.protocol.instruct.messages import UserMessage\n",
    "from mistral_common.protocol.instruct.request import ChatCompletionRequest"
   ]
  },
  {
   "cell_type": "code",
   "execution_count": 14,
   "metadata": {},
   "outputs": [],
   "source": [
    "import faiss\n",
    "import numpy as np\n",
    "import pandas as pd\n",
    "import torch"
   ]
  },
  {
   "cell_type": "code",
   "execution_count": 16,
   "metadata": {},
   "outputs": [],
   "source": [
    "torch.cuda.empty_cache()\n",
    "from torch.utils.data import DataLoader"
   ]
  },
  {
   "cell_type": "code",
   "execution_count": null,
   "metadata": {},
   "outputs": [
    {
     "ename": "PermissionError",
     "evalue": "[Errno 13] Permission denied: 'C:\\\\Users\\\\Jason\\\\mistral_models\\\\7B-Instruct-v0.3'",
     "output_type": "error",
     "traceback": [
      "\u001b[1;31m---------------------------------------------------------------------------\u001b[0m",
      "\u001b[1;31mPermissionError\u001b[0m                           Traceback (most recent call last)",
      "Cell \u001b[1;32mIn[20], line 3\u001b[0m\n\u001b[0;32m      1\u001b[0m \u001b[38;5;28;01mwith\u001b[39;00m torch\u001b[38;5;241m.\u001b[39mno_grad():\n\u001b[0;32m      2\u001b[0m     tokenizer \u001b[38;5;241m=\u001b[39m MistralTokenizer\u001b[38;5;241m.\u001b[39mfrom_file(\u001b[38;5;124mf\u001b[39m\u001b[38;5;124m\"\u001b[39m\u001b[38;5;132;01m{\u001b[39;00mmistral_models_path\u001b[38;5;132;01m}\u001b[39;00m\u001b[38;5;124m/tokenizer.model.v3\u001b[39m\u001b[38;5;124m\"\u001b[39m)\n\u001b[1;32m----> 3\u001b[0m     model \u001b[38;5;241m=\u001b[39m \u001b[43mtorch\u001b[49m\u001b[38;5;241;43m.\u001b[39;49m\u001b[43mload\u001b[49m\u001b[43m(\u001b[49m\u001b[43mmistral_models_path\u001b[49m\u001b[43m,\u001b[49m\u001b[43m \u001b[49m\u001b[43mmap_location\u001b[49m\u001b[38;5;241;43m=\u001b[39;49m\u001b[38;5;124;43m'\u001b[39;49m\u001b[38;5;124;43mcpu\u001b[39;49m\u001b[38;5;124;43m'\u001b[39;49m\u001b[43m)\u001b[49m\n",
      "File \u001b[1;32mc:\\Users\\Jason\\Documents\\GitHub\\EZ-Rx-ID\\.venv\\Lib\\site-packages\\torch\\serialization.py:1425\u001b[0m, in \u001b[0;36mload\u001b[1;34m(f, map_location, pickle_module, weights_only, mmap, **pickle_load_args)\u001b[0m\n\u001b[0;32m   1422\u001b[0m \u001b[38;5;28;01mif\u001b[39;00m \u001b[38;5;124m\"\u001b[39m\u001b[38;5;124mencoding\u001b[39m\u001b[38;5;124m\"\u001b[39m \u001b[38;5;129;01mnot\u001b[39;00m \u001b[38;5;129;01min\u001b[39;00m pickle_load_args\u001b[38;5;241m.\u001b[39mkeys():\n\u001b[0;32m   1423\u001b[0m     pickle_load_args[\u001b[38;5;124m\"\u001b[39m\u001b[38;5;124mencoding\u001b[39m\u001b[38;5;124m\"\u001b[39m] \u001b[38;5;241m=\u001b[39m \u001b[38;5;124m\"\u001b[39m\u001b[38;5;124mutf-8\u001b[39m\u001b[38;5;124m\"\u001b[39m\n\u001b[1;32m-> 1425\u001b[0m \u001b[38;5;28;01mwith\u001b[39;00m \u001b[43m_open_file_like\u001b[49m\u001b[43m(\u001b[49m\u001b[43mf\u001b[49m\u001b[43m,\u001b[49m\u001b[43m \u001b[49m\u001b[38;5;124;43m\"\u001b[39;49m\u001b[38;5;124;43mrb\u001b[39;49m\u001b[38;5;124;43m\"\u001b[39;49m\u001b[43m)\u001b[49m \u001b[38;5;28;01mas\u001b[39;00m opened_file:\n\u001b[0;32m   1426\u001b[0m     \u001b[38;5;28;01mif\u001b[39;00m _is_zipfile(opened_file):\n\u001b[0;32m   1427\u001b[0m         \u001b[38;5;66;03m# The zipfile reader is going to advance the current file position.\u001b[39;00m\n\u001b[0;32m   1428\u001b[0m         \u001b[38;5;66;03m# If we want to actually tail call to torch.jit.load, we need to\u001b[39;00m\n\u001b[0;32m   1429\u001b[0m         \u001b[38;5;66;03m# reset back to the original position.\u001b[39;00m\n\u001b[0;32m   1430\u001b[0m         orig_position \u001b[38;5;241m=\u001b[39m opened_file\u001b[38;5;241m.\u001b[39mtell()\n",
      "File \u001b[1;32mc:\\Users\\Jason\\Documents\\GitHub\\EZ-Rx-ID\\.venv\\Lib\\site-packages\\torch\\serialization.py:751\u001b[0m, in \u001b[0;36m_open_file_like\u001b[1;34m(name_or_buffer, mode)\u001b[0m\n\u001b[0;32m    749\u001b[0m \u001b[38;5;28;01mdef\u001b[39;00m\u001b[38;5;250m \u001b[39m\u001b[38;5;21m_open_file_like\u001b[39m(name_or_buffer, mode):\n\u001b[0;32m    750\u001b[0m     \u001b[38;5;28;01mif\u001b[39;00m _is_path(name_or_buffer):\n\u001b[1;32m--> 751\u001b[0m         \u001b[38;5;28;01mreturn\u001b[39;00m \u001b[43m_open_file\u001b[49m\u001b[43m(\u001b[49m\u001b[43mname_or_buffer\u001b[49m\u001b[43m,\u001b[49m\u001b[43m \u001b[49m\u001b[43mmode\u001b[49m\u001b[43m)\u001b[49m\n\u001b[0;32m    752\u001b[0m     \u001b[38;5;28;01melse\u001b[39;00m:\n\u001b[0;32m    753\u001b[0m         \u001b[38;5;28;01mif\u001b[39;00m \u001b[38;5;124m\"\u001b[39m\u001b[38;5;124mw\u001b[39m\u001b[38;5;124m\"\u001b[39m \u001b[38;5;129;01min\u001b[39;00m mode:\n",
      "File \u001b[1;32mc:\\Users\\Jason\\Documents\\GitHub\\EZ-Rx-ID\\.venv\\Lib\\site-packages\\torch\\serialization.py:732\u001b[0m, in \u001b[0;36m_open_file.__init__\u001b[1;34m(self, name, mode)\u001b[0m\n\u001b[0;32m    731\u001b[0m \u001b[38;5;28;01mdef\u001b[39;00m\u001b[38;5;250m \u001b[39m\u001b[38;5;21m__init__\u001b[39m(\u001b[38;5;28mself\u001b[39m, name, mode):\n\u001b[1;32m--> 732\u001b[0m     \u001b[38;5;28msuper\u001b[39m()\u001b[38;5;241m.\u001b[39m\u001b[38;5;21m__init__\u001b[39m(\u001b[38;5;28;43mopen\u001b[39;49m\u001b[43m(\u001b[49m\u001b[43mname\u001b[49m\u001b[43m,\u001b[49m\u001b[43m \u001b[49m\u001b[43mmode\u001b[49m\u001b[43m)\u001b[49m)\n",
      "\u001b[1;31mPermissionError\u001b[0m: [Errno 13] Permission denied: 'C:\\\\Users\\\\Jason\\\\mistral_models\\\\7B-Instruct-v0.3'"
     ]
    }
   ],
   "source": [
    "# Not enough GPU storage to run this\n",
    "\n",
    "with torch.no_grad():\n",
    "    tokenizer = MistralTokenizer.from_file(f\"{mistral_models_path}/tokenizer.model.v3\")\n",
    "    model = Transformer.from_folder(mistral_models_path, map_location='cpu')"
   ]
  },
  {
   "cell_type": "code",
   "execution_count": null,
   "metadata": {},
   "outputs": [],
   "source": [
    "df = pd.read_csv('Data/test.csv')"
   ]
  },
  {
   "cell_type": "code",
   "execution_count": null,
   "metadata": {},
   "outputs": [],
   "source": [
    "from FlagEmbedding import FlagAutoModel\n",
    "\n",
    "embed_model = FlagAutoModel.from_finetuned('BAAI/bge-base-en-v1.5',\n",
    "                                      query_instruction_for_retrieval=\"Represent this sentence for searching relevant passages:\",\n",
    "                                      use_fp16=True)"
   ]
  },
  {
   "cell_type": "code",
   "execution_count": 6,
   "metadata": {},
   "outputs": [
    {
     "name": "stderr",
     "output_type": "stream",
     "text": [
      "You're using a BertTokenizerFast tokenizer. Please note that with a fast tokenizer, using the `__call__` method is faster than using a method to encode the text followed by a call to the `pad` method to get a padded encoding.\n"
     ]
    },
    {
     "data": {
      "text/html": [
       "<div>\n",
       "<style scoped>\n",
       "    .dataframe tbody tr th:only-of-type {\n",
       "        vertical-align: middle;\n",
       "    }\n",
       "\n",
       "    .dataframe tbody tr th {\n",
       "        vertical-align: top;\n",
       "    }\n",
       "\n",
       "    .dataframe thead th {\n",
       "        text-align: right;\n",
       "    }\n",
       "</style>\n",
       "<table border=\"1\" class=\"dataframe\">\n",
       "  <thead>\n",
       "    <tr style=\"text-align: right;\">\n",
       "      <th></th>\n",
       "      <th>Medicine Name</th>\n",
       "      <th>Composition</th>\n",
       "      <th>Uses</th>\n",
       "      <th>Side_effects</th>\n",
       "      <th>Manufacturer</th>\n",
       "      <th>Combined_Info</th>\n",
       "      <th>embeddings</th>\n",
       "    </tr>\n",
       "  </thead>\n",
       "  <tbody>\n",
       "    <tr>\n",
       "      <th>0</th>\n",
       "      <td>Avastin 400mg Injection</td>\n",
       "      <td>Bevacizumab (400mg)</td>\n",
       "      <td>Cancer of colon and rectum Non-small cell lun...</td>\n",
       "      <td>Rectal bleeding Taste change Headache Noseblee...</td>\n",
       "      <td>Roche Products India Pvt Ltd</td>\n",
       "      <td>Name: Avastin 400mg Injection | Uses:  Cancer ...</td>\n",
       "      <td>[-0.029142677783966064, 0.04442485049366951, -...</td>\n",
       "    </tr>\n",
       "    <tr>\n",
       "      <th>589</th>\n",
       "      <td>Avapar Tablet</td>\n",
       "      <td>Camylofin (50mg) + Diclofenac (50mg)</td>\n",
       "      <td>Abdominal cramp</td>\n",
       "      <td>Nausea Vomiting Heartburn Stomach pain Indiges...</td>\n",
       "      <td>Khandelwal Laboratories Pvt Ltd</td>\n",
       "      <td>Name: Avapar Tablet | Uses:  Abdominal cramp |...</td>\n",
       "      <td>[0.00592622859403491, 0.03648262098431587, -0....</td>\n",
       "    </tr>\n",
       "    <tr>\n",
       "      <th>412</th>\n",
       "      <td>Avas 40 Tablet</td>\n",
       "      <td>Atorvastatin (40mg)</td>\n",
       "      <td>High cholesterolPrevention of Heart attack</td>\n",
       "      <td>Dyspepsia Abdominal pain Indigestion Diarrhea ...</td>\n",
       "      <td>Micro Labs Ltd</td>\n",
       "      <td>Name: Avas 40 Tablet | Uses:  High cholesterol...</td>\n",
       "      <td>[-0.028077833354473114, 0.04028759524226189, -...</td>\n",
       "    </tr>\n",
       "  </tbody>\n",
       "</table>\n",
       "</div>"
      ],
      "text/plain": [
       "               Medicine Name                           Composition  \\\n",
       "0    Avastin 400mg Injection                   Bevacizumab (400mg)   \n",
       "589            Avapar Tablet  Camylofin (50mg) + Diclofenac (50mg)   \n",
       "412           Avas 40 Tablet                   Atorvastatin (40mg)   \n",
       "\n",
       "                                                  Uses  \\\n",
       "0     Cancer of colon and rectum Non-small cell lun...   \n",
       "589                                    Abdominal cramp   \n",
       "412         High cholesterolPrevention of Heart attack   \n",
       "\n",
       "                                          Side_effects  \\\n",
       "0    Rectal bleeding Taste change Headache Noseblee...   \n",
       "589  Nausea Vomiting Heartburn Stomach pain Indiges...   \n",
       "412  Dyspepsia Abdominal pain Indigestion Diarrhea ...   \n",
       "\n",
       "                        Manufacturer  \\\n",
       "0       Roche Products India Pvt Ltd   \n",
       "589  Khandelwal Laboratories Pvt Ltd   \n",
       "412                   Micro Labs Ltd   \n",
       "\n",
       "                                         Combined_Info  \\\n",
       "0    Name: Avastin 400mg Injection | Uses:  Cancer ...   \n",
       "589  Name: Avapar Tablet | Uses:  Abdominal cramp |...   \n",
       "412  Name: Avas 40 Tablet | Uses:  High cholesterol...   \n",
       "\n",
       "                                            embeddings  \n",
       "0    [-0.029142677783966064, 0.04442485049366951, -...  \n",
       "589  [0.00592622859403491, 0.03648262098431587, -0....  \n",
       "412  [-0.028077833354473114, 0.04028759524226189, -...  "
      ]
     },
     "execution_count": 6,
     "metadata": {},
     "output_type": "execute_result"
    }
   ],
   "source": [
    "index = faiss.read_index('faiss_index.bin')\n",
    "query = \"Tell me what Avastin's uses and side effects are\"\n",
    "query_embedding = embed_model.encode([query])\n",
    "query_embedding_np = np.array(query_embedding).astype('float32')\n",
    "\n",
    "D, I = index.search(query_embedding_np, 3)\n",
    "retrieved_rows = df.iloc[I[0]]\n",
    "retrieved_rows"
   ]
  },
  {
   "cell_type": "code",
   "execution_count": 11,
   "metadata": {},
   "outputs": [],
   "source": [
    "context = \" \".join(retrieved_rows['Combined_Info'].tolist())\n",
    "prompt = f\"Based on the following context, answer the question:\\n\\nContext: {context}\\n\\nQuestion: {query}\""
   ]
  },
  {
   "cell_type": "code",
   "execution_count": null,
   "metadata": {},
   "outputs": [],
   "source": [
    "inputs = tokenizer(prompt, return_tensors=\"pt\", truncation=True, max_length=400)"
   ]
  }
 ],
 "metadata": {
  "kernelspec": {
   "display_name": ".venv",
   "language": "python",
   "name": "python3"
  },
  "language_info": {
   "codemirror_mode": {
    "name": "ipython",
    "version": 3
   },
   "file_extension": ".py",
   "mimetype": "text/x-python",
   "name": "python",
   "nbconvert_exporter": "python",
   "pygments_lexer": "ipython3",
   "version": "3.12.7"
  }
 },
 "nbformat": 4,
 "nbformat_minor": 2
}
