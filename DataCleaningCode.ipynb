{
 "cells": [
  {
   "cell_type": "code",
   "execution_count": null,
   "id": "4f6d6324-a2ee-4305-9249-1a0a6d9d69b2",
   "metadata": {},
   "outputs": [],
   "source": [
    "import json\n",
    "import pandas as pd\n",
    "\n",
    "#uploading the json file\n",
    "json_file = \"/Users/mohina/Downloads/DL1.json\"  \n",
    "\n",
    "with open(json_file, \"r\", encoding=\"utf-8\") as file:\n",
    "    data = json.load(file)\n",
    "\n",
    "#list that stores extracted drug data\n",
    "drugs = []\n",
    "\n",
    "#extracting the required fields\n",
    "for item in data.get(\"results\", []):\n",
    "    ndc = item.get(\"openfda\", {}).get(\"product_ndc\", [\"Unknown\"])[0]\n",
    "    brand_name = item.get(\"openfda\", {}).get(\"brand_name\", [\"Unknown\"])[0]\n",
    "    generic_name = item.get(\"openfda\", {}).get(\"generic_name\", [\"Unknown\"])[0]\n",
    "\n",
    "    #excludes entries with missing NDC or Generic Name\n",
    "    if ndc != \"Unknown\" and generic_name != \"Unknown\":\n",
    "        drugs.append({\n",
    "            \"NDC\": ndc,\n",
    "            \"Brand Name\": brand_name,\n",
    "            \"Generic Name\": generic_name,\n",
    "            \"Indications\": item.get(\"indications_and_usage\", [\"Unknown\"])[0],\n",
    "            \"Purpose\": item.get(\"description\", [\"Unknown\"])[0],\n",
    "            \"Contraindications\": item.get(\"contraindications\", [\"Unknown\"])[0],\n",
    "            \"Warnings\": item.get(\"warnings_and_precautions\", [\"Unknown\"])[0],\n",
    "            \"Boxed Warning\": item.get(\"boxed_warning\", [\"Unknown\"])[0],\n",
    "            \"Adverse Reactions\": item.get(\"adverse_reactions\", [\"Unknown\"])[0],\n",
    "            \"Clinical Studies\": item.get(\"clinical_studies\", [\"Unknown\"])[0],\n",
    "            \"Use in Specific Populations\": item.get(\"use_in_specific_populations\", [\"Unknown\"])[0],\n",
    "            \"Dosage and Administration\": item.get(\"dosage_and_administration\", [\"Unknown\"])[0],\n",
    "        })\n",
    "\n",
    "# converting df to csv\n",
    "df = pd.DataFrame(drugs)  \n",
    "#naming the new file\n",
    "csv_filename = \"DL1(5663).csv\"    \n",
    "df.to_csv(csv_filename, index=False)\n",
    "\n",
    "#checking\n",
    "print(f\"DF saved as {csv_filename} with {len(df)} records.\")\n"
   ]
  }
 ],
 "metadata": {
  "kernelspec": {
   "display_name": "Python 3 (ipykernel)",
   "language": "python",
   "name": "python3"
  },
  "language_info": {
   "codemirror_mode": {
    "name": "ipython",
    "version": 3
   },
   "file_extension": ".py",
   "mimetype": "text/x-python",
   "name": "python",
   "nbconvert_exporter": "python",
   "pygments_lexer": "ipython3",
   "version": "3.11.5"
  }
 },
 "nbformat": 4,
 "nbformat_minor": 5
}
