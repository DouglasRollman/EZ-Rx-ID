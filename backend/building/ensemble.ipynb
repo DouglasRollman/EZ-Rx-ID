{
 "cells": [
  {
   "cell_type": "code",
   "execution_count": null,
   "id": "fd9d6aec",
   "metadata": {},
   "outputs": [],
   "source": [
    "import json\n",
    "\n",
    "color_columns = [\n",
    "    'is_red', 'is_blue', 'is_black', 'is_gray',\n",
    "    'is_orange', 'is_yellow', 'is_turquoise', 'is_green',\n",
    "    'is_white', 'is_pink', 'is_brown', 'is_purple'\n",
    "]\n",
    "\n",
    "# Create a dictionary: { \"0\": \"is_red\", \"1\": \"is_blue\", ... }\n",
    "color_label_map = {str(i): name for i, name in enumerate(color_columns)}\n",
    "\n",
    "# Save to JSON\n",
    "with open(\"color_label_map.json\", \"w\") as f:\n",
    "    json.dump(color_label_map, f, indent=4)\n",
    "\n",
    "print(\"Saved label map to color_label_map.json\")"
   ]
  },
  {
   "cell_type": "code",
   "execution_count": 5,
   "id": "4a4f0def",
   "metadata": {},
   "outputs": [
    {
     "name": "stderr",
     "output_type": "stream",
     "text": [
      "C:\\Users\\dougl\\AppData\\Roaming\\Python\\Python312\\site-packages\\torchvision\\models\\_utils.py:208: UserWarning: The parameter 'pretrained' is deprecated since 0.13 and may be removed in the future, please use 'weights' instead.\n",
      "  warnings.warn(\n",
      "C:\\Users\\dougl\\AppData\\Roaming\\Python\\Python312\\site-packages\\torchvision\\models\\_utils.py:223: UserWarning: Arguments other than a weight enum or `None` for 'weights' are deprecated since 0.13 and may be removed in the future. The current behavior is equivalent to passing `weights=None`.\n",
      "  warnings.warn(msg)\n"
     ]
    },
    {
     "name": "stdout",
     "output_type": "stream",
     "text": [
      "     is_red   is_blue  is_black   is_gray  is_orange  is_yellow  is_turquoise  \\\n",
      "0  0.213412  0.220393  0.164655  0.005882   0.185636   0.680384       0.00904   \n",
      "\n",
      "   is_green  is_white  is_pink  is_brown  is_purple  \n",
      "0  0.008783  0.907794  0.01683  0.313202    0.00979  \n"
     ]
    }
   ],
   "source": [
    "import pandas as pd\n",
    "import torch\n",
    "from torchvision import transforms, models\n",
    "from PIL import Image\n",
    "import torch.nn as nn\n",
    "import numpy as np\n",
    "\n",
    "# Define the color columns\n",
    "color_columns = [\n",
    "    'is_red', 'is_blue', 'is_black', 'is_gray',\n",
    "    'is_orange', 'is_yellow', 'is_turquoise', 'is_green',\n",
    "    'is_white', 'is_pink', 'is_brown', 'is_purple'\n",
    "]\n",
    "\n",
    "# --- Build the model architecture ---\n",
    "def build_color_model(num_classes):\n",
    "    model = models.resnet18(pretrained=False)\n",
    "    model.fc = nn.Sequential(\n",
    "        nn.Linear(model.fc.in_features, 256),\n",
    "        nn.ReLU(),\n",
    "        nn.Dropout(0.3),\n",
    "        nn.Linear(256, num_classes),\n",
    "        nn.Sigmoid()  # For multilabel probabilities\n",
    "    )\n",
    "    return model\n",
    "\n",
    "# Load the model\n",
    "device = torch.device(\"cuda\" if torch.cuda.is_available() else \"cpu\")\n",
    "num_classes = len(color_columns)\n",
    "color_model = build_color_model(num_classes)\n",
    "color_model.load_state_dict(torch.load(\"D:/capstone/EZ-Rx-ID/models/color_model.pth\", map_location=device))\n",
    "color_model.to(device)\n",
    "color_model.eval()\n",
    "\n",
    "# Preprocessing\n",
    "preprocess = transforms.Compose([\n",
    "    transforms.Resize((224, 224)),\n",
    "    transforms.ToTensor(),\n",
    "    transforms.Normalize(mean=[0.485, 0.456, 0.406], std=[0.229, 0.224, 0.225])\n",
    "])\n",
    "\n",
    "# Load and preprocess the image\n",
    "image_path = \"D:/rximage/image/images/split_padded_rotated/00002-3228-30_RXNAVIMAGE10_391E1C80_bottom_1.jpg\"\n",
    "img = Image.open(image_path).convert(\"RGB\")\n",
    "input_tensor = preprocess(img).unsqueeze(0).to(device)\n",
    "\n",
    "# Make prediction\n",
    "with torch.no_grad():\n",
    "    output = color_model(input_tensor)\n",
    "\n",
    "# Convert to probability list\n",
    "probabilities = output.cpu().numpy().flatten()\n",
    "\n",
    "# Create DataFrame with column names and probabilities\n",
    "color_df = pd.DataFrame([probabilities], columns=color_columns)\n",
    "\n",
    "# View result\n",
    "print(color_df)"
   ]
  },
  {
   "cell_type": "code",
   "execution_count": 9,
   "id": "a20199c9",
   "metadata": {},
   "outputs": [
    {
     "name": "stderr",
     "output_type": "stream",
     "text": [
      "C:\\Users\\dougl\\AppData\\Roaming\\Python\\Python312\\site-packages\\torchvision\\models\\_utils.py:208: UserWarning: The parameter 'pretrained' is deprecated since 0.13 and may be removed in the future, please use 'weights' instead.\n",
      "  warnings.warn(\n",
      "C:\\Users\\dougl\\AppData\\Roaming\\Python\\Python312\\site-packages\\torchvision\\models\\_utils.py:223: UserWarning: Arguments other than a weight enum or `None` for 'weights' are deprecated since 0.13 and may be removed in the future. The current behavior is equivalent to passing `weights=None`.\n",
      "  warnings.warn(msg)\n"
     ]
    },
    {
     "name": "stdout",
     "output_type": "stream",
     "text": [
      "                                       filename  is_scored_pred  \\\n",
      "0  00002-3228-30_RXNAVIMAGE10_391E1C80_bottom_1               0   \n",
      "\n",
      "   is_scored_probability  \n",
      "0               0.000183  \n"
     ]
    }
   ],
   "source": [
    "import os\n",
    "import torch\n",
    "import torch.nn as nn\n",
    "from torchvision import models, transforms\n",
    "from PIL import Image\n",
    "import pandas as pd\n",
    "\n",
    "# --- Build Scored Model ---\n",
    "def build_scored_model():\n",
    "    # --- Load model ---\n",
    "    model = models.resnet18(pretrained=False)\n",
    "    model.fc = nn.Sequential(\n",
    "        nn.Linear(model.fc.in_features, 1),\n",
    "        nn.Sigmoid()\n",
    "    )\n",
    "    return model\n",
    "# --- Load Model ---\n",
    "device = torch.device(\"cuda\" if torch.cuda.is_available() else \"cpu\")\n",
    "scored_model = build_scored_model()\n",
    "scored_model.load_state_dict(torch.load(\"D:/capstone/EZ-Rx-ID/models/scored_model.pth\", map_location=device))\n",
    "scored_model.to(device)\n",
    "scored_model.eval()\n",
    "\n",
    "# --- Preprocessing ---\n",
    "preprocess = transforms.Compose([\n",
    "    transforms.Resize((224, 224)),\n",
    "    transforms.ToTensor(),\n",
    "    transforms.Normalize(mean=[0.485, 0.456, 0.406], std=[0.229, 0.224, 0.225])\n",
    "])\n",
    "\n",
    "# --- Inference ---\n",
    "def predict_is_scored(image_path):\n",
    "    # Load and preprocess image\n",
    "    img = Image.open(image_path).convert(\"RGB\")\n",
    "    input_tensor = preprocess(img).unsqueeze(0).to(device)\n",
    "\n",
    "    with torch.no_grad():\n",
    "        prob = scored_model(input_tensor).item()\n",
    "\n",
    "    pred = int(prob >= 0.5)\n",
    "    base_filename = os.path.splitext(os.path.basename(image_path))[0]\n",
    "\n",
    "    return pd.DataFrame([{\n",
    "        \"filename\": base_filename,\n",
    "        \"is_scored_pred\": pred,\n",
    "        \"is_scored_probability\": prob\n",
    "    }])\n",
    "\n",
    "# Example usage:\n",
    "image_path = \"D:/rximage/image/images/split_padded_rotated/00002-3228-30_RXNAVIMAGE10_391E1C80_bottom_1.jpg\"\n",
    "scored_df = predict_is_scored(image_path)\n",
    "print(scored_df)"
   ]
  },
  {
   "cell_type": "code",
   "execution_count": null,
   "id": "1d3f515b",
   "metadata": {},
   "outputs": [],
   "source": []
  },
  {
   "cell_type": "code",
   "execution_count": 15,
   "id": "ae46c2c7",
   "metadata": {},
   "outputs": [
    {
     "data": {
      "text/plain": [
       "Index(['filename', 'is_scored_pred', 'is_scored_probability', 'is_red',\n",
       "       'is_blue', 'is_black', 'is_gray', 'is_orange', 'is_yellow',\n",
       "       'is_turquoise', 'is_green', 'is_white', 'is_pink', 'is_brown',\n",
       "       'is_purple', 'shape_pred', 'is_printed_pred',\n",
       "       'is_printed_pred_probability', 'base_filename'],\n",
       "      dtype='object')"
      ]
     },
     "execution_count": 15,
     "metadata": {},
     "output_type": "execute_result"
    }
   ],
   "source": [
    "import pandas as pd\n",
    "\n",
    "# Load the CSV file\n",
    "df = pd.read_csv(\"merged_predictions.csv\")\n",
    "\n",
    "# Show the first few rows\n",
    "df.columns"
   ]
  },
  {
   "cell_type": "code",
   "execution_count": 4,
   "id": "debaa192",
   "metadata": {},
   "outputs": [
    {
     "data": {
      "text/plain": [
       "Index(['filename', 'is_scored_pred', 'is_scored_probability', 'is_red',\n",
       "       'is_blue', 'is_black', 'is_gray', 'is_orange', 'is_yellow',\n",
       "       'is_turquoise', 'is_green', 'is_white', 'is_pink', 'is_brown',\n",
       "       'is_purple', 'shape_pred', 'is_printed_pred',\n",
       "       'is_printed_pred_probability', 'base_filename'],\n",
       "      dtype='object')"
      ]
     },
     "execution_count": 4,
     "metadata": {},
     "output_type": "execute_result"
    }
   ],
   "source": [
    "df.columns"
   ]
  },
  {
   "cell_type": "code",
   "execution_count": null,
   "id": "b9e3a3d8",
   "metadata": {},
   "outputs": [],
   "source": [
    "model = models.resnet18(pretrained=False)\n",
    "model.fc = nn.Sequential(\n",
    "    nn.Linear(model.fc.in_features, 1),\n",
    "    nn.Sigmoid()\n",
    ")"
   ]
  },
  {
   "cell_type": "code",
   "execution_count": 11,
   "id": "683ec321",
   "metadata": {},
   "outputs": [
    {
     "name": "stderr",
     "output_type": "stream",
     "text": [
      "C:\\Users\\dougl\\AppData\\Roaming\\Python\\Python312\\site-packages\\torchvision\\models\\_utils.py:208: UserWarning: The parameter 'pretrained' is deprecated since 0.13 and may be removed in the future, please use 'weights' instead.\n",
      "  warnings.warn(\n",
      "C:\\Users\\dougl\\AppData\\Roaming\\Python\\Python312\\site-packages\\torchvision\\models\\_utils.py:223: UserWarning: Arguments other than a weight enum or `None` for 'weights' are deprecated since 0.13 and may be removed in the future. The current behavior is equivalent to passing `weights=None`.\n",
      "  warnings.warn(msg)\n"
     ]
    },
    {
     "name": "stdout",
     "output_type": "stream",
     "text": [
      "                                       filename  is_printed_pred  \\\n",
      "0  00002-3228-30_RXNAVIMAGE10_391E1C80_bottom_1                1   \n",
      "\n",
      "   is_printed_probability  \n",
      "0                0.999966  \n"
     ]
    }
   ],
   "source": [
    "import os\n",
    "import torch\n",
    "import torch.nn as nn\n",
    "from torchvision import models, transforms\n",
    "from PIL import Image\n",
    "import pandas as pd\n",
    "\n",
    "# --- Build printed Model ---\n",
    "def build_printed_model():\n",
    "    # --- Load model ---\n",
    "    model = models.resnet18(pretrained=False)\n",
    "    model.fc = nn.Sequential(\n",
    "        nn.Linear(model.fc.in_features, 1),\n",
    "        nn.Sigmoid()\n",
    "    )\n",
    "    return model\n",
    "# --- Load Model ---\n",
    "device = torch.device(\"cuda\" if torch.cuda.is_available() else \"cpu\")\n",
    "scored_model = build_printed_model()\n",
    "scored_model.load_state_dict(torch.load(\"D:/capstone/EZ-Rx-ID/models/printed_model.pth\", map_location=device))\n",
    "scored_model.to(device)\n",
    "scored_model.eval()\n",
    "\n",
    "# --- Preprocessing ---\n",
    "preprocess = transforms.Compose([\n",
    "    transforms.Resize((224, 224)),\n",
    "    transforms.ToTensor(),\n",
    "    transforms.Normalize(mean=[0.485, 0.456, 0.406], std=[0.229, 0.224, 0.225])\n",
    "])\n",
    "\n",
    "# --- Inference ---\n",
    "def predict_is_printed(image_path):\n",
    "    # Load and preprocess image\n",
    "    img = Image.open(image_path).convert(\"RGB\")\n",
    "    input_tensor = preprocess(img).unsqueeze(0).to(device)\n",
    "\n",
    "    with torch.no_grad():\n",
    "        prob = scored_model(input_tensor).item()\n",
    "\n",
    "    pred = int(prob >= 0.5)\n",
    "    base_filename = os.path.splitext(os.path.basename(image_path))[0]\n",
    "\n",
    "    return pd.DataFrame([{\n",
    "        \"filename\": base_filename,\n",
    "        \"is_printed_pred\": pred,\n",
    "        \"is_printed_probability\": prob\n",
    "    }])\n",
    "\n",
    "# Example usage:\n",
    "image_path = \"D:/rximage/image/images/split_padded_rotated/00002-3228-30_RXNAVIMAGE10_391E1C80_bottom_1.jpg\"\n",
    "printed_df = predict_is_printed(image_path)\n",
    "print(printed_df)"
   ]
  },
  {
   "cell_type": "code",
   "execution_count": 12,
   "id": "698206ff",
   "metadata": {},
   "outputs": [
    {
     "name": "stderr",
     "output_type": "stream",
     "text": [
      "C:\\Users\\dougl\\AppData\\Roaming\\Python\\Python312\\site-packages\\torchvision\\models\\_utils.py:208: UserWarning: The parameter 'pretrained' is deprecated since 0.13 and may be removed in the future, please use 'weights' instead.\n",
      "  warnings.warn(\n",
      "C:\\Users\\dougl\\AppData\\Roaming\\Python\\Python312\\site-packages\\torchvision\\models\\_utils.py:223: UserWarning: Arguments other than a weight enum or `None` for 'weights' are deprecated since 0.13 and may be removed in the future. The current behavior is equivalent to passing `weights=None`.\n",
      "  warnings.warn(msg)\n"
     ]
    },
    {
     "name": "stdout",
     "output_type": "stream",
     "text": [
      "                                       filename shape_pred\n",
      "0  00002-3228-30_RXNAVIMAGE10_391E1C80_bottom_1    CAPSULE\n"
     ]
    }
   ],
   "source": [
    "import os\n",
    "import json\n",
    "import torch\n",
    "import torch.nn as nn\n",
    "from torchvision import models, transforms\n",
    "from PIL import Image\n",
    "import pandas as pd\n",
    "\n",
    "# Paths\n",
    "model_path = \"D:/capstone/EZ-Rx-ID/models/shape_model.pth\"\n",
    "label_map_path = \"D:/capstone/EZ-Rx-ID/backend/shape_model/shape_label_map.json\"\n",
    "image_path = \"D:/rximage/image/images/split_padded_rotated/00002-3228-30_RXNAVIMAGE10_391E1C80_bottom_1.jpg\"\n",
    "\n",
    "# Load label map\n",
    "with open(label_map_path, \"r\") as f:\n",
    "    idx_to_label = json.load(f)\n",
    "\n",
    "num_classes = len(idx_to_label)\n",
    "\n",
    "# Load model\n",
    "def build_shape_model(num_classes):\n",
    "    model = models.resnet18(pretrained=False)\n",
    "    model.fc = nn.Linear(model.fc.in_features, num_classes)\n",
    "    return model\n",
    "\n",
    "device = torch.device(\"cuda\" if torch.cuda.is_available() else \"cpu\")\n",
    "model = build_shape_model(num_classes)\n",
    "model.load_state_dict(torch.load(model_path, map_location=device))\n",
    "model.to(device)\n",
    "model.eval()\n",
    "\n",
    "# Image transforms (same as training)\n",
    "transform = transforms.Compose([\n",
    "    transforms.Resize((224, 224)),\n",
    "    transforms.ToTensor(),\n",
    "    transforms.Normalize(mean=[0.485, 0.456, 0.406], std=[0.229, 0.224, 0.225])\n",
    "])\n",
    "\n",
    "# Load and preprocess image\n",
    "img = Image.open(image_path).convert(\"RGB\")\n",
    "input_tensor = transform(img).unsqueeze(0).to(device)\n",
    "\n",
    "# Inference\n",
    "with torch.no_grad():\n",
    "    output = model(input_tensor)\n",
    "    pred_idx = torch.argmax(output, dim=1).item()\n",
    "    pred_label = idx_to_label[str(pred_idx)]\n",
    "\n",
    "# Prepare result\n",
    "filename = os.path.basename(image_path).replace(\".jpg\", \"\")\n",
    "df = pd.DataFrame([{\n",
    "    \"filename\": filename,\n",
    "    \"shape_pred\": pred_label\n",
    "}])\n",
    "\n",
    "print(df)"
   ]
  },
  {
   "cell_type": "code",
   "execution_count": 13,
   "id": "e780ea05",
   "metadata": {},
   "outputs": [
    {
     "name": "stdout",
     "output_type": "stream",
     "text": [
      "2.6.0+cpu\n",
      "False\n"
     ]
    }
   ],
   "source": [
    "import torch\n",
    "print(torch.__version__)\n",
    "print(torch.cuda.is_available())"
   ]
  }
 ],
 "metadata": {
  "kernelspec": {
   "display_name": "Python 3",
   "language": "python",
   "name": "python3"
  },
  "language_info": {
   "codemirror_mode": {
    "name": "ipython",
    "version": 3
   },
   "file_extension": ".py",
   "mimetype": "text/x-python",
   "name": "python",
   "nbconvert_exporter": "python",
   "pygments_lexer": "ipython3",
   "version": "3.12.5"
  }
 },
 "nbformat": 4,
 "nbformat_minor": 5
}
