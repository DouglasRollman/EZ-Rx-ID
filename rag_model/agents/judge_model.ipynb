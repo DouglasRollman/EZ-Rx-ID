{
 "cells": [
  {
   "cell_type": "code",
   "execution_count": 2,
   "id": "da6236f5-efbe-4183-ae7a-c2c59c887146",
   "metadata": {},
   "outputs": [],
   "source": [
    "from langchain.chains import LLMChain\n",
    "from langchain.prompts import PromptTemplate\n",
    "from langchain_core.messages import AIMessage\n",
    "from langchain_google_genai import ChatGoogleGenerativeAI\n",
    "from langchain.agents import AgentExecutor, create_tool_calling_agent, Tool\n",
    "from dotenv import load_dotenv\n",
    "import os"
   ]
  },
  {
   "cell_type": "code",
   "execution_count": 3,
   "id": "8aa231f8-fb98-4324-bac1-5b0e112d3a5e",
   "metadata": {},
   "outputs": [],
   "source": [
    "load_dotenv(\"secrets.env\")\n",
    "my_key = os.getenv(\"GEMINI_KEY\")\n",
    "\n",
    "os.environ[\"GOOGLE_API_KEY\"] = my_key\n",
    "llm = ChatGoogleGenerativeAI(model=\"gemini-1.5-flash\", temperature=0.7)"
   ]
  },
  {
   "cell_type": "code",
   "execution_count": 12,
   "id": "b4cb0014-9267-49f8-bcf7-7026f70656f2",
   "metadata": {},
   "outputs": [
    {
     "data": {
      "text/plain": [
       "{'question': 'What is ozempic?',\n",
       " 'answer': 'The provided context does not contain information',\n",
       " 'text': 'Insufficient'}"
      ]
     },
     "execution_count": 12,
     "metadata": {},
     "output_type": "execute_result"
    }
   ],
   "source": [
    "prompt = PromptTemplate.from_template(\"\"\"\n",
    "Given the following question and answer, determine if the answer is sufficient. An answer is sufficient if it provides ample information related to the question.\n",
    "\n",
    "An answer is insufficient if it doesn't contain relevant information. Additionally, phrases like \"the provided context does not contain\" or \"the context does not provide\" are common for insufficient answers\n",
    "\n",
    "Question: {question}\n",
    "Answer: {answer}\n",
    "\n",
    "Respond only with \"Sufficient\" or \"Insufficient\".\n",
    "\"\"\")\n",
    "\n",
    "question = \"What is ozempic?\"\n",
    "answer = \"The provided context does not contain information\"\n",
    "\n",
    "sufficiency_chain = LLMChain(\n",
    "    llm=llm,\n",
    "    prompt=prompt\n",
    ")\n",
    "\n",
    "sufficiency_result = sufficiency_chain.invoke({\n",
    "        \"question\": question,\n",
    "        \"answer\": answer\n",
    "    })\n",
    "sufficiency_result\n"
   ]
  }
 ],
 "metadata": {
  "kernelspec": {
   "display_name": "Python 3",
   "language": "python",
   "name": "python3"
  },
  "language_info": {
   "codemirror_mode": {
    "name": "ipython",
    "version": 3
   },
   "file_extension": ".py",
   "mimetype": "text/x-python",
   "name": "python",
   "nbconvert_exporter": "python",
   "pygments_lexer": "ipython3",
   "version": "3.10.10"
  }
 },
 "nbformat": 4,
 "nbformat_minor": 5
}
