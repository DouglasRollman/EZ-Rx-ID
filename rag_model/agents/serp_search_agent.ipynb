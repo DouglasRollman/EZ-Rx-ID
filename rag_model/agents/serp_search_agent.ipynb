{
 "cells": [
  {
   "cell_type": "code",
   "execution_count": 1,
   "id": "6ce96a0b-dd60-410c-bec1-95496d24d656",
   "metadata": {},
   "outputs": [],
   "source": [
    "from langchain.agents import AgentExecutor, create_tool_calling_agent, Tool\n",
    "from duckduckgo_search import DDGS\n",
    "from langchain_core.prompts import ChatPromptTemplate\n",
    "from langchain.utilities import SerpAPIWrapper\n",
    "from langchain_core.messages import AIMessage\n",
    "from langchain_google_genai import ChatGoogleGenerativeAI\n",
    "import re\n",
    "import os\n",
    "from dotenv import load_dotenv"
   ]
  },
  {
   "cell_type": "code",
   "execution_count": 2,
   "id": "d2d0efb8-d6f2-40ff-9bc5-e43f575be29e",
   "metadata": {},
   "outputs": [],
   "source": [
    "load_dotenv(\"secrets.env\")\n",
    "my_key = os.getenv(\"GEMINI_KEY\")\n",
    "\n",
    "os.environ[\"GOOGLE_API_KEY\"] = my_key\n",
    "llm = ChatGoogleGenerativeAI(model=\"gemini-1.5-flash\", temperature=0.7)"
   ]
  },
  {
   "cell_type": "code",
   "execution_count": 3,
   "id": "cd64ac76-ea5f-4fe4-8bc4-80667c2cc080",
   "metadata": {},
   "outputs": [],
   "source": [
    "TRUSTED_SITES = [\n",
    "    \"cdc.gov\", \n",
    "    \"nih.gov\",\n",
    "    \"drugs.com\",\n",
    "    \"medlineplus.gov\",\n",
    "    \"hopkinsmedicine.org\",\n",
    "    \"who.int\",\n",
    "    \"fda.gov\",\n",
    "    \"health.harvard.edu\"\n",
    "]"
   ]
  },
  {
   "cell_type": "code",
   "execution_count": 4,
   "id": "efbd6c55-1308-4377-9ffe-af9bb740eb78",
   "metadata": {},
   "outputs": [],
   "source": [
    "def medical_search(query: str, max_results: int = 5) -> str:\n",
    "    filter_domains = \" OR \".join([f\"site:{domain}\" for domain in TRUSTED_SITES])\n",
    "    full_query = f\"{query} {filter_domains}\"\n",
    "\n",
    "    search = SerpAPIWrapper()\n",
    "\n",
    "    try:\n",
    "        raw_results = search.results(full_query)\n",
    "\n",
    "        results_text = []\n",
    "        count = 0\n",
    "\n",
    "        for result in raw_results.get(\"organic_results\", []):\n",
    "            url = result.get(\"link\", \"\")\n",
    "            if any(domain in url for domain in TRUSTED_SITES):\n",
    "                title = result.get(\"title\", \"\")\n",
    "                snippet = result.get(\"snippet\", \"\")\n",
    "                results_text.append(f\"Title: {title}\\nSnippet: {snippet}\\nSource: {url}\")\n",
    "                count += 1\n",
    "            if count >= max_results:\n",
    "                break\n",
    "\n",
    "        return \"\\n\\n\".join(results_text) if results_text else \"No trusted medical sources found.\"\n",
    "\n",
    "    except Exception as e:\n",
    "        return f\"Search failed: {str(e)}\""
   ]
  },
  {
   "cell_type": "code",
   "execution_count": 5,
   "id": "afb0e0df-383d-4086-a7ab-7189faa79dc6",
   "metadata": {},
   "outputs": [],
   "source": [
    "tools = [\n",
    "    Tool(\n",
    "        name=\"TrustedMedicalSearch\",\n",
    "        func=medical_search,\n",
    "        description=\"Searches medical information from trusted sources like CDC, NIH, Mayo Clinic, and more.\"\n",
    "    )\n",
    "]"
   ]
  },
  {
   "cell_type": "code",
   "execution_count": 6,
   "id": "e6cdeb66-6acb-4b05-8efd-f1075ec40f38",
   "metadata": {},
   "outputs": [],
   "source": [
    "prompt = ChatPromptTemplate.from_messages(\n",
    "    [(\"system\", (\n",
    "        \"You are a medical assistant. You have access to a specialized web search tool \"\n",
    "        \"that ONLY returns information from a predefined list of trustworthy sources, \"\n",
    "        \"including reputable general, academic, and medical websites. \"\n",
    "        \"Use this tool when you need to find current or specific information. \"\n",
    "        \"When you provide an answer based on information from the search tool, \"\n",
    "        \"If the tool returns 'No information found from trusted sources', state that clearly and do not invent information.\"\n",
    "        )),\n",
    "        (\"user\", \"{input}\"),\n",
    "        AIMessage(content=\"Okay, I will use the trusted search tool if necessary to find the answer from reliable sources.\"),\n",
    "        (\"placeholder\", \"{agent_scratchpad}\"),\n",
    "    ]\n",
    ")"
   ]
  },
  {
   "cell_type": "code",
   "execution_count": 7,
   "id": "07c5b545-c4c8-449b-a0ba-ebff91e7a788",
   "metadata": {},
   "outputs": [],
   "source": [
    "agent = create_tool_calling_agent(llm, tools, prompt)"
   ]
  },
  {
   "cell_type": "code",
   "execution_count": 8,
   "id": "067a8cd1-b4e0-4b6c-b0b1-c9d6202276fb",
   "metadata": {},
   "outputs": [],
   "source": [
    "agent_executor = AgentExecutor(agent=agent, tools=tools, verbose=True, handle_parsing_errors=True, return_intermediate_steps=True)"
   ]
  },
  {
   "cell_type": "code",
   "execution_count": 9,
   "id": "aa22dbce-12b3-4943-b5ea-904fa9341c5c",
   "metadata": {},
   "outputs": [],
   "source": [
    "user_input = \"What is Ozempic?\""
   ]
  },
  {
   "cell_type": "code",
   "execution_count": 10,
   "id": "9236c002-b133-484a-a135-2497621709b1",
   "metadata": {},
   "outputs": [
    {
     "name": "stdout",
     "output_type": "stream",
     "text": [
      "\n",
      "\n",
      "\u001b[1m> Entering new AgentExecutor chain...\u001b[0m\n",
      "\u001b[32;1m\u001b[1;3m\n",
      "Invoking: `TrustedMedicalSearch` with `Ozempic`\n",
      "\n",
      "\n",
      "\u001b[0m\u001b[36;1m\u001b[1;3mTitle: Ozempic: Uses, Dosage, Side Effects, Warnings\n",
      "Snippet: Ozempic (semaglutide) is a prescription medication used for adults with type 2 diabetes to lower their blood sugar levels (A1C).\n",
      "Source: https://www.drugs.com/ozempic.html\n",
      "\n",
      "Title: FDA's Concerns with Unapproved GLP-1 Drugs Used for ...\n",
      "Snippet: FDA is aware of counterfeit Ozempic marketed in the U.S. Counterfeit drugs claim to be authentic, but could contain the wrong ingredients, ...\n",
      "Source: https://www.fda.gov/drugs/postmarket-drug-safety-information-patients-and-providers/fdas-concerns-unapproved-glp-1-drugs-used-weight-loss\n",
      "\n",
      "Title: highlights of prescribing information - accessdata.fda.gov\n",
      "Snippet: Patients receiving OZEMPIC in combination with an insulin secretagogue (e.g., sulfonylurea) or insulin may have an increased risk of hypoglycemia, including ...\n",
      "Source: https://www.accessdata.fda.gov/drugsatfda_docs/label/2025/209637s025lbl.pdf\n",
      "\n",
      "Title: Results - Clinical Review Report: Semaglutide (Ozempic)\n",
      "Snippet: Semaglutide (Ozempic): (Novo Nordisk Canada Inc.): Indication: For the treatment of adult patients with type 2 diabetes mellitus to improve glycemic control.\n",
      "Source: https://www.ncbi.nlm.nih.gov/books/NBK544016/\n",
      "\n",
      "Title: Semaglutide Injection: MedlinePlus Drug Information\n",
      "Snippet: Semaglutide injection may increase the risk that you will develop tumors of the thyroid gland, including medullary thyroid carcinoma (MTC; ...\n",
      "Source: https://medlineplus.gov/druginfo/meds/a618008.html\u001b[0m\u001b[32;1m\u001b[1;3mBased on my search of trusted medical sources, Ozempic (semaglutide) is a prescription medication primarily used to lower blood sugar levels in adults with type 2 diabetes.  It's also important to note that there are concerns about counterfeit Ozempic and that the FDA has issued warnings.  The medication may increase the risk of hypoglycemia (low blood sugar), especially when used with other diabetes medications like insulin or sulfonylureas.  There are also potential risks associated with the development of thyroid tumors.  For complete and up-to-date information, please consult the prescribing information or speak with a healthcare professional.\u001b[0m\n",
      "\n",
      "\u001b[1m> Finished chain.\u001b[0m\n",
      "Based on my search of trusted medical sources, Ozempic (semaglutide) is a prescription medication primarily used to lower blood sugar levels in adults with type 2 diabetes.  It's also important to note that there are concerns about counterfeit Ozempic and that the FDA has issued warnings.  The medication may increase the risk of hypoglycemia (low blood sugar), especially when used with other diabetes medications like insulin or sulfonylureas.  There are also potential risks associated with the development of thyroid tumors.  For complete and up-to-date information, please consult the prescribing information or speak with a healthcare professional.\n"
     ]
    }
   ],
   "source": [
    "response = agent_executor.invoke({\"input\": user_input})\n",
    "print(f\"{response['output']}\") "
   ]
  },
  {
   "cell_type": "code",
   "execution_count": 11,
   "id": "35c45194-c908-4615-9626-507a7511fca1",
   "metadata": {},
   "outputs": [
    {
     "name": "stdout",
     "output_type": "stream",
     "text": [
      "\n",
      "--- Agent's Intermediate Steps (Context & Raw Tool Output) ---\n",
      "Step 1:\n",
      "  Action Tool: TrustedMedicalSearch\n",
      "  Action Input: Ozempic\n",
      "  Observation (Raw Tool Output):\n",
      "Title: Ozempic: Uses, Dosage, Side Effects, Warnings\n",
      "Snippet: Ozempic (semaglutide) is a prescription medication used for adults with type 2 diabetes to lower their blood sugar levels (A1C).\n",
      "Source: https://www.drugs.com/ozempic.html\n",
      "\n",
      "Title: FDA's Concerns with Unapproved GLP-1 Drugs Used for ...\n",
      "Snippet: FDA is aware of counterfeit Ozempic marketed in the U.S. Counterfeit drugs claim to be authentic, but could contain the wrong ingredients, ...\n",
      "Source: https://www.fda.gov/drugs/postmarket-drug-safety-information-patients-and-providers/fdas-concerns-unapproved-glp-1-drugs-used-weight-loss\n",
      "\n",
      "Title: highlights of prescribing information - accessdata.fda.gov\n",
      "Snippet: Patients receiving OZEMPIC in combination with an insulin secretagogue (e.g., sulfonylurea) or insulin may have an increased risk of hypoglycemia, including ...\n",
      "Source: https://www.accessdata.fda.gov/drugsatfda_docs/label/2025/209637s025lbl.pdf\n",
      "\n",
      "Title: Results - Clinical Review Report: Semaglutide (Ozempic)\n",
      "Snippet: Semaglutide (Ozempic): (Novo Nordisk Canada Inc.): Indication: For the treatment of adult patients with type 2 diabetes mellitus to improve glycemic control.\n",
      "Source: https://www.ncbi.nlm.nih.gov/books/NBK544016/\n",
      "\n",
      "Title: Semaglutide Injection: MedlinePlus Drug Information\n",
      "Snippet: Semaglutide injection may increase the risk that you will develop tumors of the thyroid gland, including medullary thyroid carcinoma (MTC; ...\n",
      "Source: https://medlineplus.gov/druginfo/meds/a618008.html\n",
      "---\n"
     ]
    }
   ],
   "source": [
    "if 'intermediate_steps' in response and response['intermediate_steps']:\n",
    "    print(\"\\n--- Agent's Intermediate Steps (Context & Raw Tool Output) ---\")\n",
    "    for step_number, (action, observation) in enumerate(response['intermediate_steps']):\n",
    "        print(f\"Step {step_number + 1}:\")\n",
    "        print(f\"  Action Tool: {action.tool}\")\n",
    "        print(f\"  Action Input: {action.tool_input}\")\n",
    "        print(f\"  Observation (Raw Tool Output):\\n{observation}\\n---\")"
   ]
  },
  {
   "cell_type": "code",
   "execution_count": null,
   "id": "b81cc81e-be7f-4609-804f-5c166e712f84",
   "metadata": {},
   "outputs": [],
   "source": []
  }
 ],
 "metadata": {
  "kernelspec": {
   "display_name": "Python 3",
   "language": "python",
   "name": "python3"
  },
  "language_info": {
   "codemirror_mode": {
    "name": "ipython",
    "version": 3
   },
   "file_extension": ".py",
   "mimetype": "text/x-python",
   "name": "python",
   "nbconvert_exporter": "python",
   "pygments_lexer": "ipython3",
   "version": "3.10.10"
  }
 },
 "nbformat": 4,
 "nbformat_minor": 5
}
